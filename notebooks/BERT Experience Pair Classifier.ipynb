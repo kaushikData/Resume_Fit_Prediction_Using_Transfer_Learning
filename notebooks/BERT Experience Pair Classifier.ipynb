{
 "cells": [
  {
   "cell_type": "code",
   "execution_count": null,
   "metadata": {
    "ExecuteTime": {
     "start_time": "2020-06-07T22:50:12.587Z"
    }
   },
   "outputs": [],
   "source": [
    "import json  \n",
    "from os import listdir\n",
    "from os.path import isfile\n",
    "import pandas as pd"
   ]
  },
  {
   "cell_type": "code",
   "execution_count": null,
   "metadata": {
    "ExecuteTime": {
     "start_time": "2020-06-07T22:50:12.981Z"
    }
   },
   "outputs": [],
   "source": [
    "candidate_df = pd.DataFrame(columns=['name', 'role'])"
   ]
  },
  {
   "cell_type": "code",
   "execution_count": 3,
   "metadata": {
    "ExecuteTime": {
     "end_time": "2020-06-07T01:10:52.166148Z",
     "start_time": "2020-06-07T01:10:52.156094Z"
    }
   },
   "outputs": [
    {
     "data": {
      "text/plain": [
       "['hr_manager',\n",
       " 'sales_representative',\n",
       " '.DS_Store',\n",
       " 'marketing_lead',\n",
       " 'construction_engineer',\n",
       " 'recruiter',\n",
       " 'mechanical_engineer',\n",
       " 'technical_writer',\n",
       " 'software_engineer',\n",
       " 'accountant',\n",
       " 'network_engineer',\n",
       " 'data_scientist',\n",
       " 'hardware_engineer',\n",
       " 'concept_artist']"
      ]
     },
     "execution_count": 3,
     "metadata": {},
     "output_type": "execute_result"
    }
   ],
   "source": [
    "roles = listdir('../data/candiate_profile_data/')\n",
    "\n",
    "#roles = ['hardware_engineer', 'construction_engineer', 'technical_writer', 'concept_artist']\n",
    "roles"
   ]
  },
  {
   "cell_type": "code",
   "execution_count": 14,
   "metadata": {
    "ExecuteTime": {
     "end_time": "2020-06-07T01:13:52.122793Z",
     "start_time": "2020-06-07T01:13:33.334281Z"
    },
    "scrolled": true
   },
   "outputs": [
    {
     "name": "stdout",
     "output_type": "stream",
     "text": [
      "hr_manager\n",
      "sales_representative\n",
      "marketing_lead\n",
      "construction_engineer\n",
      "recruiter\n",
      "mechanical_engineer\n",
      "technical_writer\n",
      "software_engineer\n",
      "accountant\n",
      "network_engineer\n",
      "data_scientist\n",
      "hardware_engineer\n",
      "concept_artist\n"
     ]
    }
   ],
   "source": [
    "experience_df = pd.DataFrame(columns=[\"role\",\"position\",\"description\"])\n",
    "\n",
    "i = 0\n",
    "for role in [title for title in roles if title != '.DS_Store']:\n",
    "    print (role)\n",
    "    files = [name for name in listdir('../data/candiate_profile_data/'+role+'/') if isfile('../data/candiate_profile_data/'+role+'/'+name) and name not in ['.DS_Store']]\n",
    "    \n",
    "    for file in files:\n",
    "        f = open('../data/candiate_profile_data/'+role+'/'+file) \n",
    "        data = json.load(f) \n",
    "        for j in range(len(data['experiences'])):\n",
    "            experience_df.loc[i,\"description\"] = data['experiences'][j]['description']\n",
    "            experience_df.loc[i,\"position\"] = data['experiences'][j]['title']\n",
    "            experience_df.loc[i,\"role\"] = role\n",
    "            i += 1\n",
    "        f.close() "
   ]
  },
  {
   "cell_type": "code",
   "execution_count": 15,
   "metadata": {
    "ExecuteTime": {
     "end_time": "2020-06-07T01:13:52.129155Z",
     "start_time": "2020-06-07T01:13:52.124754Z"
    }
   },
   "outputs": [
    {
     "data": {
      "text/plain": [
       "(15532, 3)"
      ]
     },
     "execution_count": 15,
     "metadata": {},
     "output_type": "execute_result"
    }
   ],
   "source": [
    "experience_df.shape"
   ]
  },
  {
   "cell_type": "code",
   "execution_count": 16,
   "metadata": {
    "ExecuteTime": {
     "end_time": "2020-06-07T01:13:52.144446Z",
     "start_time": "2020-06-07T01:13:52.137456Z"
    }
   },
   "outputs": [],
   "source": [
    "experience_df.description = experience_df.description.astype(str)"
   ]
  },
  {
   "cell_type": "code",
   "execution_count": 17,
   "metadata": {
    "ExecuteTime": {
     "end_time": "2020-06-07T01:13:52.157270Z",
     "start_time": "2020-06-07T01:13:52.146887Z"
    },
    "scrolled": true
   },
   "outputs": [],
   "source": [
    "filter_exp = experience_df[experience_df.description != 'None']"
   ]
  },
  {
   "cell_type": "code",
   "execution_count": 25,
   "metadata": {
    "ExecuteTime": {
     "end_time": "2020-06-07T01:14:48.644730Z",
     "start_time": "2020-06-07T01:14:48.641306Z"
    }
   },
   "outputs": [
    {
     "data": {
      "text/plain": [
       "(9303, 3)"
      ]
     },
     "execution_count": 25,
     "metadata": {},
     "output_type": "execute_result"
    }
   ],
   "source": [
    "filter_exp.shape"
   ]
  },
  {
   "cell_type": "code",
   "execution_count": 26,
   "metadata": {
    "ExecuteTime": {
     "end_time": "2020-06-07T01:14:56.151278Z",
     "start_time": "2020-06-07T01:14:56.140827Z"
    }
   },
   "outputs": [
    {
     "data": {
      "text/html": [
       "<div>\n",
       "<style scoped>\n",
       "    .dataframe tbody tr th:only-of-type {\n",
       "        vertical-align: middle;\n",
       "    }\n",
       "\n",
       "    .dataframe tbody tr th {\n",
       "        vertical-align: top;\n",
       "    }\n",
       "\n",
       "    .dataframe thead th {\n",
       "        text-align: right;\n",
       "    }\n",
       "</style>\n",
       "<table border=\"1\" class=\"dataframe\">\n",
       "  <thead>\n",
       "    <tr style=\"text-align: right;\">\n",
       "      <th></th>\n",
       "      <th>role</th>\n",
       "      <th>position</th>\n",
       "      <th>description</th>\n",
       "    </tr>\n",
       "  </thead>\n",
       "  <tbody>\n",
       "    <tr>\n",
       "      <th>2</th>\n",
       "      <td>hr_manager</td>\n",
       "      <td>independent contractor</td>\n",
       "      <td>i am an independent hr contractor for small an...</td>\n",
       "    </tr>\n",
       "    <tr>\n",
       "      <th>4</th>\n",
       "      <td>hr_manager</td>\n",
       "      <td>hr manager</td>\n",
       "      <td>based in richmond, glenmore custom print + pac...</td>\n",
       "    </tr>\n",
       "    <tr>\n",
       "      <th>8</th>\n",
       "      <td>hr_manager</td>\n",
       "      <td>external relations</td>\n",
       "      <td>consumer relations; public relations</td>\n",
       "    </tr>\n",
       "    <tr>\n",
       "      <th>24</th>\n",
       "      <td>hr_manager</td>\n",
       "      <td>hr manager</td>\n",
       "      <td>full cycle recruiting trainingprofessional dev...</td>\n",
       "    </tr>\n",
       "    <tr>\n",
       "      <th>25</th>\n",
       "      <td>hr_manager</td>\n",
       "      <td>community relations manager</td>\n",
       "      <td>patient &amp; public relationsinsurance education ...</td>\n",
       "    </tr>\n",
       "    <tr>\n",
       "      <th>...</th>\n",
       "      <td>...</td>\n",
       "      <td>...</td>\n",
       "      <td>...</td>\n",
       "    </tr>\n",
       "    <tr>\n",
       "      <th>15527</th>\n",
       "      <td>concept_artist</td>\n",
       "      <td>freelance illustrator &amp; concept artist</td>\n",
       "      <td>concepting alternate character skins and illus...</td>\n",
       "    </tr>\n",
       "    <tr>\n",
       "      <th>15528</th>\n",
       "      <td>concept_artist</td>\n",
       "      <td>concept artist</td>\n",
       "      <td>concept art for sci-fi spaceship rts game the ...</td>\n",
       "    </tr>\n",
       "    <tr>\n",
       "      <th>15529</th>\n",
       "      <td>concept_artist</td>\n",
       "      <td>freelance illustrator</td>\n",
       "      <td>illustrations for hellfire mobile trading card...</td>\n",
       "    </tr>\n",
       "    <tr>\n",
       "      <th>15530</th>\n",
       "      <td>concept_artist</td>\n",
       "      <td>freelance illustrator</td>\n",
       "      <td>illustrations for unannounced trading card game.</td>\n",
       "    </tr>\n",
       "    <tr>\n",
       "      <th>15531</th>\n",
       "      <td>concept_artist</td>\n",
       "      <td>freelance animator</td>\n",
       "      <td>- in-betweening and coloring on hand-drawn mad...</td>\n",
       "    </tr>\n",
       "  </tbody>\n",
       "</table>\n",
       "<p>9303 rows × 3 columns</p>\n",
       "</div>"
      ],
      "text/plain": [
       "                 role                                position  \\\n",
       "2          hr_manager                  independent contractor   \n",
       "4          hr_manager                              hr manager   \n",
       "8          hr_manager                      external relations   \n",
       "24         hr_manager                              hr manager   \n",
       "25         hr_manager             community relations manager   \n",
       "...               ...                                     ...   \n",
       "15527  concept_artist  freelance illustrator & concept artist   \n",
       "15528  concept_artist                          concept artist   \n",
       "15529  concept_artist                   freelance illustrator   \n",
       "15530  concept_artist                   freelance illustrator   \n",
       "15531  concept_artist                      freelance animator   \n",
       "\n",
       "                                             description  \n",
       "2      i am an independent hr contractor for small an...  \n",
       "4      based in richmond, glenmore custom print + pac...  \n",
       "8                   consumer relations; public relations  \n",
       "24     full cycle recruiting trainingprofessional dev...  \n",
       "25     patient & public relationsinsurance education ...  \n",
       "...                                                  ...  \n",
       "15527  concepting alternate character skins and illus...  \n",
       "15528  concept art for sci-fi spaceship rts game the ...  \n",
       "15529  illustrations for hellfire mobile trading card...  \n",
       "15530   illustrations for unannounced trading card game.  \n",
       "15531  - in-betweening and coloring on hand-drawn mad...  \n",
       "\n",
       "[9303 rows x 3 columns]"
      ]
     },
     "execution_count": 26,
     "metadata": {},
     "output_type": "execute_result"
    }
   ],
   "source": [
    "filter_exp"
   ]
  },
  {
   "cell_type": "code",
   "execution_count": 49,
   "metadata": {
    "ExecuteTime": {
     "end_time": "2020-06-07T01:26:56.443338Z",
     "start_time": "2020-06-07T01:26:56.336063Z"
    }
   },
   "outputs": [
    {
     "name": "stderr",
     "output_type": "stream",
     "text": [
      "/Users/kaushik-shakkari/anaconda3/lib/python3.7/site-packages/pandas/core/generic.py:5303: SettingWithCopyWarning: \n",
      "A value is trying to be set on a copy of a slice from a DataFrame.\n",
      "Try using .loc[row_indexer,col_indexer] = value instead\n",
      "\n",
      "See the caveats in the documentation: https://pandas.pydata.org/pandas-docs/stable/user_guide/indexing.html#returning-a-view-versus-a-copy\n",
      "  self[name] = value\n"
     ]
    }
   ],
   "source": [
    "filter_exp.position = filter_exp.position.str.lower()\n",
    "filter_exp.description = filter_exp.description.str.lower()"
   ]
  },
  {
   "cell_type": "code",
   "execution_count": 50,
   "metadata": {
    "ExecuteTime": {
     "end_time": "2020-06-07T01:26:56.685527Z",
     "start_time": "2020-06-07T01:26:56.677361Z"
    }
   },
   "outputs": [],
   "source": [
    "Data_Scientist_df = filter_exp[filter_exp.position == 'data scientist'].reset_index().drop(['index'], axis = 1)"
   ]
  },
  {
   "cell_type": "code",
   "execution_count": 51,
   "metadata": {
    "ExecuteTime": {
     "end_time": "2020-06-07T01:26:57.458183Z",
     "start_time": "2020-06-07T01:26:57.450531Z"
    }
   },
   "outputs": [],
   "source": [
    "Network_Engineer_df = filter_exp[filter_exp.position == 'network engineer'].reset_index().drop(['index'], axis = 1)"
   ]
  },
  {
   "cell_type": "code",
   "execution_count": 52,
   "metadata": {
    "ExecuteTime": {
     "end_time": "2020-06-07T01:26:58.009870Z",
     "start_time": "2020-06-07T01:26:57.996950Z"
    }
   },
   "outputs": [
    {
     "data": {
      "text/html": [
       "<div>\n",
       "<style scoped>\n",
       "    .dataframe tbody tr th:only-of-type {\n",
       "        vertical-align: middle;\n",
       "    }\n",
       "\n",
       "    .dataframe tbody tr th {\n",
       "        vertical-align: top;\n",
       "    }\n",
       "\n",
       "    .dataframe thead th {\n",
       "        text-align: right;\n",
       "    }\n",
       "</style>\n",
       "<table border=\"1\" class=\"dataframe\">\n",
       "  <thead>\n",
       "    <tr style=\"text-align: right;\">\n",
       "      <th></th>\n",
       "      <th>role</th>\n",
       "      <th>position</th>\n",
       "      <th>description</th>\n",
       "    </tr>\n",
       "  </thead>\n",
       "  <tbody>\n",
       "    <tr>\n",
       "      <th>0</th>\n",
       "      <td>software_engineer</td>\n",
       "      <td>data scientist</td>\n",
       "      <td>design test cases and implementing the integra...</td>\n",
       "    </tr>\n",
       "    <tr>\n",
       "      <th>1</th>\n",
       "      <td>data_scientist</td>\n",
       "      <td>data scientist</td>\n",
       "      <td>industry solutions analytics</td>\n",
       "    </tr>\n",
       "    <tr>\n",
       "      <th>2</th>\n",
       "      <td>data_scientist</td>\n",
       "      <td>data scientist</td>\n",
       "      <td>• wrangled complex and unstructured data from ...</td>\n",
       "    </tr>\n",
       "    <tr>\n",
       "      <th>3</th>\n",
       "      <td>data_scientist</td>\n",
       "      <td>data scientist</td>\n",
       "      <td>• understand business needs for online adverti...</td>\n",
       "    </tr>\n",
       "    <tr>\n",
       "      <th>4</th>\n",
       "      <td>data_scientist</td>\n",
       "      <td>data scientist</td>\n",
       "      <td>marketplace - shared rides</td>\n",
       "    </tr>\n",
       "    <tr>\n",
       "      <th>...</th>\n",
       "      <td>...</td>\n",
       "      <td>...</td>\n",
       "      <td>...</td>\n",
       "    </tr>\n",
       "    <tr>\n",
       "      <th>76</th>\n",
       "      <td>data_scientist</td>\n",
       "      <td>data scientist</td>\n",
       "      <td>statistics and data modelingtechnical environm...</td>\n",
       "    </tr>\n",
       "    <tr>\n",
       "      <th>77</th>\n",
       "      <td>data_scientist</td>\n",
       "      <td>data scientist</td>\n",
       "      <td>• created time series forecasts and logistic r...</td>\n",
       "    </tr>\n",
       "    <tr>\n",
       "      <th>78</th>\n",
       "      <td>data_scientist</td>\n",
       "      <td>data scientist</td>\n",
       "      <td>• extracted features from travel data and deve...</td>\n",
       "    </tr>\n",
       "    <tr>\n",
       "      <th>79</th>\n",
       "      <td>data_scientist</td>\n",
       "      <td>data scientist</td>\n",
       "      <td>core automation engineering - firmware</td>\n",
       "    </tr>\n",
       "    <tr>\n",
       "      <th>80</th>\n",
       "      <td>data_scientist</td>\n",
       "      <td>data scientist</td>\n",
       "      <td>• developing tools for intelligent web crawlin...</td>\n",
       "    </tr>\n",
       "  </tbody>\n",
       "</table>\n",
       "<p>81 rows × 3 columns</p>\n",
       "</div>"
      ],
      "text/plain": [
       "                 role        position  \\\n",
       "0   software_engineer  data scientist   \n",
       "1      data_scientist  data scientist   \n",
       "2      data_scientist  data scientist   \n",
       "3      data_scientist  data scientist   \n",
       "4      data_scientist  data scientist   \n",
       "..                ...             ...   \n",
       "76     data_scientist  data scientist   \n",
       "77     data_scientist  data scientist   \n",
       "78     data_scientist  data scientist   \n",
       "79     data_scientist  data scientist   \n",
       "80     data_scientist  data scientist   \n",
       "\n",
       "                                          description  \n",
       "0   design test cases and implementing the integra...  \n",
       "1                        industry solutions analytics  \n",
       "2   • wrangled complex and unstructured data from ...  \n",
       "3   • understand business needs for online adverti...  \n",
       "4                          marketplace - shared rides  \n",
       "..                                                ...  \n",
       "76  statistics and data modelingtechnical environm...  \n",
       "77  • created time series forecasts and logistic r...  \n",
       "78  • extracted features from travel data and deve...  \n",
       "79             core automation engineering - firmware  \n",
       "80  • developing tools for intelligent web crawlin...  \n",
       "\n",
       "[81 rows x 3 columns]"
      ]
     },
     "execution_count": 52,
     "metadata": {},
     "output_type": "execute_result"
    }
   ],
   "source": [
    "Data_Scientist_df"
   ]
  },
  {
   "cell_type": "code",
   "execution_count": 53,
   "metadata": {
    "ExecuteTime": {
     "end_time": "2020-06-07T01:26:58.851681Z",
     "start_time": "2020-06-07T01:26:58.848407Z"
    }
   },
   "outputs": [
    {
     "data": {
      "text/plain": [
       "(81, 3)"
      ]
     },
     "execution_count": 53,
     "metadata": {},
     "output_type": "execute_result"
    }
   ],
   "source": [
    "Data_Scientist_df.shape"
   ]
  },
  {
   "cell_type": "code",
   "execution_count": 54,
   "metadata": {
    "ExecuteTime": {
     "end_time": "2020-06-07T01:26:59.671729Z",
     "start_time": "2020-06-07T01:26:59.668495Z"
    }
   },
   "outputs": [
    {
     "data": {
      "text/plain": [
       "(110, 3)"
      ]
     },
     "execution_count": 54,
     "metadata": {},
     "output_type": "execute_result"
    }
   ],
   "source": [
    "Network_Engineer_df.shape"
   ]
  },
  {
   "cell_type": "code",
   "execution_count": 55,
   "metadata": {
    "ExecuteTime": {
     "end_time": "2020-06-07T01:27:00.346561Z",
     "start_time": "2020-06-07T01:27:00.344077Z"
    }
   },
   "outputs": [],
   "source": [
    "#Data_Scientist_df = Data_Scientist_df[Data_Scientist_df.description.str.contains('aws')].reset_index().drop(['index'], axis = 1)"
   ]
  },
  {
   "cell_type": "code",
   "execution_count": 56,
   "metadata": {
    "ExecuteTime": {
     "end_time": "2020-06-07T01:27:00.741191Z",
     "start_time": "2020-06-07T01:27:00.739249Z"
    }
   },
   "outputs": [],
   "source": [
    "#Network_Engineer_df = Network_Engineer_df[Network_Engineer_df.description.str.contains('aws')].reset_index().drop(['index'], axis = 1)"
   ]
  },
  {
   "cell_type": "code",
   "execution_count": 57,
   "metadata": {
    "ExecuteTime": {
     "end_time": "2020-06-07T01:27:01.113305Z",
     "start_time": "2020-06-07T01:27:01.109969Z"
    }
   },
   "outputs": [
    {
     "data": {
      "text/plain": [
       "(81, 3)"
      ]
     },
     "execution_count": 57,
     "metadata": {},
     "output_type": "execute_result"
    }
   ],
   "source": [
    "Data_Scientist_df.shape"
   ]
  },
  {
   "cell_type": "code",
   "execution_count": 58,
   "metadata": {
    "ExecuteTime": {
     "end_time": "2020-06-07T01:27:01.653594Z",
     "start_time": "2020-06-07T01:27:01.649482Z"
    }
   },
   "outputs": [
    {
     "data": {
      "text/plain": [
       "(110, 3)"
      ]
     },
     "execution_count": 58,
     "metadata": {},
     "output_type": "execute_result"
    }
   ],
   "source": [
    "Network_Engineer_df.shape"
   ]
  },
  {
   "cell_type": "code",
   "execution_count": 59,
   "metadata": {
    "ExecuteTime": {
     "end_time": "2020-06-07T01:27:02.182962Z",
     "start_time": "2020-06-07T01:27:02.176007Z"
    }
   },
   "outputs": [],
   "source": [
    "exp_pair_df = pd.DataFrame(columns = [\"text_a\",\"text_b\",\"labels\"])"
   ]
  },
  {
   "cell_type": "code",
   "execution_count": 60,
   "metadata": {
    "ExecuteTime": {
     "end_time": "2020-06-07T01:27:08.260788Z",
     "start_time": "2020-06-07T01:27:02.837897Z"
    }
   },
   "outputs": [],
   "source": [
    "k = 0\n",
    "for i in range(Data_Scientist_df.shape[0]):\n",
    "    for j in range(1, Data_Scientist_df.shape[0]):\n",
    "        exp_pair_df.loc[k,\"text_a\"] = Data_Scientist_df.loc[i,\"description\"]\n",
    "        exp_pair_df.loc[k,\"text_b\"] = Data_Scientist_df.loc[j,\"description\"]\n",
    "        exp_pair_df.loc[k,\"labels\"] = 1 \n",
    "        k += 1"
   ]
  },
  {
   "cell_type": "code",
   "execution_count": 61,
   "metadata": {
    "ExecuteTime": {
     "end_time": "2020-06-07T01:27:23.043797Z",
     "start_time": "2020-06-07T01:27:08.262884Z"
    }
   },
   "outputs": [],
   "source": [
    "for i in range(Network_Engineer_df.shape[0]):\n",
    "    for j in range(1, Network_Engineer_df.shape[0]):\n",
    "        exp_pair_df.loc[k,\"text_a\"] = Network_Engineer_df.loc[i,\"description\"]\n",
    "        exp_pair_df.loc[k,\"text_b\"] = Network_Engineer_df.loc[j,\"description\"]\n",
    "        exp_pair_df.loc[k,\"labels\"] = 1\n",
    "        k += 1"
   ]
  },
  {
   "cell_type": "code",
   "execution_count": 62,
   "metadata": {
    "ExecuteTime": {
     "end_time": "2020-06-07T01:27:36.960009Z",
     "start_time": "2020-06-07T01:27:23.046020Z"
    }
   },
   "outputs": [],
   "source": [
    "for i in range(Data_Scientist_df.shape[0]):\n",
    "    for j in range(Network_Engineer_df.shape[0]):\n",
    "        exp_pair_df.loc[k,\"text_a\"] = Data_Scientist_df.loc[i,\"description\"]\n",
    "        exp_pair_df.loc[k,\"text_b\"] = Network_Engineer_df.loc[j,\"description\"]\n",
    "        exp_pair_df.loc[k,\"labels\"] = 0\n",
    "        k += 1"
   ]
  },
  {
   "cell_type": "code",
   "execution_count": 63,
   "metadata": {
    "ExecuteTime": {
     "end_time": "2020-06-07T01:27:36.965757Z",
     "start_time": "2020-06-07T01:27:36.962141Z"
    }
   },
   "outputs": [
    {
     "data": {
      "text/plain": [
       "(27380, 3)"
      ]
     },
     "execution_count": 63,
     "metadata": {},
     "output_type": "execute_result"
    }
   ],
   "source": [
    "exp_pair_df.shape"
   ]
  },
  {
   "cell_type": "code",
   "execution_count": 64,
   "metadata": {
    "ExecuteTime": {
     "end_time": "2020-06-07T01:27:36.982212Z",
     "start_time": "2020-06-07T01:27:36.973439Z"
    }
   },
   "outputs": [
    {
     "data": {
      "text/html": [
       "<div>\n",
       "<style scoped>\n",
       "    .dataframe tbody tr th:only-of-type {\n",
       "        vertical-align: middle;\n",
       "    }\n",
       "\n",
       "    .dataframe tbody tr th {\n",
       "        vertical-align: top;\n",
       "    }\n",
       "\n",
       "    .dataframe thead th {\n",
       "        text-align: right;\n",
       "    }\n",
       "</style>\n",
       "<table border=\"1\" class=\"dataframe\">\n",
       "  <thead>\n",
       "    <tr style=\"text-align: right;\">\n",
       "      <th></th>\n",
       "      <th>text_a</th>\n",
       "      <th>text_b</th>\n",
       "      <th>labels</th>\n",
       "    </tr>\n",
       "  </thead>\n",
       "  <tbody>\n",
       "    <tr>\n",
       "      <th>0</th>\n",
       "      <td>design test cases and implementing the integra...</td>\n",
       "      <td>industry solutions analytics</td>\n",
       "      <td>1</td>\n",
       "    </tr>\n",
       "    <tr>\n",
       "      <th>1</th>\n",
       "      <td>design test cases and implementing the integra...</td>\n",
       "      <td>• wrangled complex and unstructured data from ...</td>\n",
       "      <td>1</td>\n",
       "    </tr>\n",
       "    <tr>\n",
       "      <th>2</th>\n",
       "      <td>design test cases and implementing the integra...</td>\n",
       "      <td>• understand business needs for online adverti...</td>\n",
       "      <td>1</td>\n",
       "    </tr>\n",
       "    <tr>\n",
       "      <th>3</th>\n",
       "      <td>design test cases and implementing the integra...</td>\n",
       "      <td>marketplace - shared rides</td>\n",
       "      <td>1</td>\n",
       "    </tr>\n",
       "    <tr>\n",
       "      <th>4</th>\n",
       "      <td>design test cases and implementing the integra...</td>\n",
       "      <td>2019: sr data scientist manager2018: data scie...</td>\n",
       "      <td>1</td>\n",
       "    </tr>\n",
       "  </tbody>\n",
       "</table>\n",
       "</div>"
      ],
      "text/plain": [
       "                                              text_a  \\\n",
       "0  design test cases and implementing the integra...   \n",
       "1  design test cases and implementing the integra...   \n",
       "2  design test cases and implementing the integra...   \n",
       "3  design test cases and implementing the integra...   \n",
       "4  design test cases and implementing the integra...   \n",
       "\n",
       "                                              text_b labels  \n",
       "0                       industry solutions analytics      1  \n",
       "1  • wrangled complex and unstructured data from ...      1  \n",
       "2  • understand business needs for online adverti...      1  \n",
       "3                         marketplace - shared rides      1  \n",
       "4  2019: sr data scientist manager2018: data scie...      1  "
      ]
     },
     "execution_count": 64,
     "metadata": {},
     "output_type": "execute_result"
    }
   ],
   "source": [
    "exp_pair_df.head()"
   ]
  },
  {
   "cell_type": "code",
   "execution_count": 65,
   "metadata": {
    "ExecuteTime": {
     "end_time": "2020-06-07T01:27:36.989453Z",
     "start_time": "2020-06-07T01:27:36.984082Z"
    }
   },
   "outputs": [],
   "source": [
    "exp_pair_df.labels =  exp_pair_df.labels.astype(int)"
   ]
  },
  {
   "cell_type": "code",
   "execution_count": 66,
   "metadata": {
    "ExecuteTime": {
     "end_time": "2020-06-07T01:27:36.998402Z",
     "start_time": "2020-06-07T01:27:36.991437Z"
    }
   },
   "outputs": [],
   "source": [
    "from sklearn.model_selection import train_test_split\n",
    "train_df, eval_df = train_test_split(exp_pair_df, test_size=0.33, random_state=42)"
   ]
  },
  {
   "cell_type": "code",
   "execution_count": 67,
   "metadata": {
    "ExecuteTime": {
     "end_time": "2020-06-07T01:27:37.004842Z",
     "start_time": "2020-06-07T01:27:37.001894Z"
    }
   },
   "outputs": [],
   "source": [
    "train_args = {\n",
    "    'reprocess_input_data': True,\n",
    "    'overwrite_output_dir': True,\n",
    "    'evaluate_during_training': True,\n",
    "    'max_seq_length': 512,\n",
    "    'num_train_epochs': 2,\n",
    "    'evaluate_during_training_steps': 50,\n",
    "    #'wandb_project': 'sts-b-medium',\n",
    "    'train_batch_size': 16,\n",
    "    'regression': True,\n",
    "}"
   ]
  },
  {
   "cell_type": "code",
   "execution_count": 68,
   "metadata": {
    "ExecuteTime": {
     "end_time": "2020-06-07T01:27:41.776247Z",
     "start_time": "2020-06-07T01:27:37.007212Z"
    }
   },
   "outputs": [],
   "source": [
    "from simpletransformers.classification import ClassificationModel\n",
    "model = ClassificationModel('roberta', 'roberta-base', num_labels=1, args=train_args, use_cuda = False)"
   ]
  },
  {
   "cell_type": "code",
   "execution_count": 69,
   "metadata": {
    "ExecuteTime": {
     "end_time": "2020-06-07T01:27:41.782204Z",
     "start_time": "2020-06-07T01:27:41.778353Z"
    }
   },
   "outputs": [],
   "source": [
    "from scipy.stats import pearsonr, spearmanr\n",
    "\n",
    "def pearson_corr(preds, labels):\n",
    "    return pearsonr(preds, labels)[0]\n",
    "\n",
    "def spearman_corr(preds, labels):\n",
    "    return spearmanr(preds, labels)[0]"
   ]
  },
  {
   "cell_type": "code",
   "execution_count": null,
   "metadata": {
    "ExecuteTime": {
     "start_time": "2020-06-07T01:27:08.960Z"
    },
    "scrolled": true
   },
   "outputs": [
    {
     "name": "stdout",
     "output_type": "stream",
     "text": [
      "Converting to features started. Cache is not used.\n"
     ]
    },
    {
     "data": {
      "application/vnd.jupyter.widget-view+json": {
       "model_id": "8ca07e788a494dd68c353d10223da961",
       "version_major": 2,
       "version_minor": 0
      },
      "text/plain": [
       "HBox(children=(IntProgress(value=0, max=18344), HTML(value='')))"
      ]
     },
     "metadata": {},
     "output_type": "display_data"
    },
    {
     "name": "stdout",
     "output_type": "stream",
     "text": [
      "\n"
     ]
    },
    {
     "data": {
      "application/vnd.jupyter.widget-view+json": {
       "model_id": "61d9b1814e334e628d7f835fc0fe4aa5",
       "version_major": 2,
       "version_minor": 0
      },
      "text/plain": [
       "HBox(children=(IntProgress(value=0, description='Epoch', max=2, style=ProgressStyle(description_width='initial…"
      ]
     },
     "metadata": {},
     "output_type": "display_data"
    },
    {
     "data": {
      "application/vnd.jupyter.widget-view+json": {
       "model_id": "5a55d7a6ea9849b69a9859dd82b279a8",
       "version_major": 2,
       "version_minor": 0
      },
      "text/plain": [
       "HBox(children=(IntProgress(value=0, description='Current iteration', max=1147, style=ProgressStyle(description…"
      ]
     },
     "metadata": {},
     "output_type": "display_data"
    },
    {
     "name": "stdout",
     "output_type": "stream",
     "text": [
      "Running loss: 0.322691"
     ]
    },
    {
     "name": "stderr",
     "output_type": "stream",
     "text": [
      "/Users/kaushik-shakkari/anaconda3/lib/python3.7/site-packages/torch/optim/lr_scheduler.py:224: UserWarning: To get the last learning rate computed by the scheduler, please use `get_last_lr()`.\n",
      "  warnings.warn(\"To get the last learning rate computed by the scheduler, \"\n"
     ]
    },
    {
     "name": "stdout",
     "output_type": "stream",
     "text": [
      "Running loss: 0.000030"
     ]
    }
   ],
   "source": [
    "model.train_model(train_df, eval_df=eval_df, pearson_corr=pearson_corr, spearman_corr=spearman_corr)"
   ]
  },
  {
   "cell_type": "code",
   "execution_count": null,
   "metadata": {
    "ExecuteTime": {
     "start_time": "2020-06-07T01:27:09.847Z"
    }
   },
   "outputs": [],
   "source": [
    "result, model_outputs, wrong_predictions = model.eval_model(eval_df, pearson_corr=pearson_corr, spearman_corr=spearman_corr)\n"
   ]
  },
  {
   "cell_type": "code",
   "execution_count": null,
   "metadata": {},
   "outputs": [],
   "source": []
  }
 ],
 "metadata": {
  "kernelspec": {
   "display_name": "Python 3",
   "language": "python",
   "name": "python3"
  },
  "language_info": {
   "codemirror_mode": {
    "name": "ipython",
    "version": 3
   },
   "file_extension": ".py",
   "mimetype": "text/x-python",
   "name": "python",
   "nbconvert_exporter": "python",
   "pygments_lexer": "ipython3",
   "version": "3.7.3"
  },
  "toc": {
   "base_numbering": 1,
   "nav_menu": {},
   "number_sections": true,
   "sideBar": true,
   "skip_h1_title": false,
   "title_cell": "Table of Contents",
   "title_sidebar": "Contents",
   "toc_cell": false,
   "toc_position": {},
   "toc_section_display": true,
   "toc_window_display": false
  }
 },
 "nbformat": 4,
 "nbformat_minor": 2
}
