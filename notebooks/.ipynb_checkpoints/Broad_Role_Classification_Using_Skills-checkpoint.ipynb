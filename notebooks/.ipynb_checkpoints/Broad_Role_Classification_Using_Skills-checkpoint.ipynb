{
 "cells": [
  {
   "cell_type": "markdown",
   "metadata": {},
   "source": [
    "# Importing Libraries"
   ]
  },
  {
   "cell_type": "code",
   "execution_count": 59,
   "metadata": {
    "ExecuteTime": {
     "end_time": "2020-06-28T01:28:32.119458Z",
     "start_time": "2020-06-28T01:28:32.113313Z"
    }
   },
   "outputs": [],
   "source": [
    "import json  \n",
    "from os import listdir\n",
    "from os.path import isfile\n",
    "import pandas as pd\n",
    "import xgboost as xgb\n",
    "from eli5 import show_weights\n",
    "import eli5\n",
    "import pickle\n",
    "from sklearn.svm import SVC\n",
    "from sklearn.metrics import confusion_matrix,classification_report\n",
    "from sklearn.model_selection import train_test_split\n",
    "from sklearn.preprocessing import LabelEncoder\n",
    "import matplotlib.pyplot as plt \n",
    "%matplotlib inline"
   ]
  },
  {
   "cell_type": "markdown",
   "metadata": {},
   "source": [
    "# Preprocessing Data"
   ]
  },
  {
   "cell_type": "code",
   "execution_count": 60,
   "metadata": {
    "ExecuteTime": {
     "end_time": "2020-06-28T01:28:32.376291Z",
     "start_time": "2020-06-28T01:28:32.370759Z"
    }
   },
   "outputs": [],
   "source": [
    "candidate_df = pd.DataFrame(columns=['name', 'role'])"
   ]
  },
  {
   "cell_type": "code",
   "execution_count": 61,
   "metadata": {
    "ExecuteTime": {
     "end_time": "2020-06-28T01:28:32.518670Z",
     "start_time": "2020-06-28T01:28:32.514202Z"
    }
   },
   "outputs": [
    {
     "data": {
      "text/plain": [
       "['hr_manager',\n",
       " 'sales_representative',\n",
       " '.DS_Store',\n",
       " 'marketing_lead',\n",
       " 'concept_designer',\n",
       " 'construction_engineer',\n",
       " 'recruiter',\n",
       " 'mechanical_engineer',\n",
       " 'technical_writer',\n",
       " 'human_resource_assistant',\n",
       " 'software_engineer',\n",
       " 'accountant',\n",
       " 'network_engineer',\n",
       " 'data_scientist',\n",
       " 'hardware_engineer',\n",
       " 'editor',\n",
       " 'concept_artist']"
      ]
     },
     "execution_count": 61,
     "metadata": {},
     "output_type": "execute_result"
    }
   ],
   "source": [
    "# load profiles from different role folders deom data directory\n",
    "roles = listdir('../data/candiate_profile_data/')\n",
    "roles"
   ]
  },
  {
   "cell_type": "code",
   "execution_count": 62,
   "metadata": {
    "ExecuteTime": {
     "end_time": "2020-06-28T01:28:35.945149Z",
     "start_time": "2020-06-28T01:28:32.671038Z"
    },
    "scrolled": true
   },
   "outputs": [],
   "source": [
    "# preprocess profile json files to extract skills and endoresements\n",
    "i = 0\n",
    "skills_list = []\n",
    "for role in [title for title in roles if title != '.DS_Store']:\n",
    "    files = [name for name in listdir('../data/candiate_profile_data/'+role+'/') if isfile('../data/candiate_profile_data/'+role+'/'+name) and name not in ['.DS_Store']]\n",
    "    for file in files:\n",
    "        f = open('../data/candiate_profile_data/'+role+'/'+file) \n",
    "        data = json.load(f) \n",
    "        total_endors = 0\n",
    "        if len(data['skills']) > 0:\n",
    "            cur_skills = []\n",
    "            for skill in data['skills']: \n",
    "                skill['endorsementCount'] += 1\n",
    "                total_endors += skill['endorsementCount']\n",
    "                cur_skills.append([skill['skillName'].lower(),skill['endorsementCount']])\n",
    "            skills_list.append([cur_skills, total_endors])\n",
    "            candidate_df.loc[i,\"role\"] = role\n",
    "            candidate_df.loc[i,\"name\"] = file.split('.')[0]\n",
    "            i += 1\n",
    "        f.close() "
   ]
  },
  {
   "cell_type": "code",
   "execution_count": 63,
   "metadata": {
    "ExecuteTime": {
     "end_time": "2020-06-28T01:28:35.950626Z",
     "start_time": "2020-06-28T01:28:35.947064Z"
    }
   },
   "outputs": [
    {
     "data": {
      "text/plain": [
       "[[[['microsoft office', 3],\n",
       "   ['management', 3],\n",
       "   ['microsoft excel', 3],\n",
       "   ['human resources', 2],\n",
       "   ['office administration', 1],\n",
       "   ['bookkeeping', 1],\n",
       "   ['microsoft word', 2],\n",
       "   ['powerpoint', 1],\n",
       "   ['training', 2],\n",
       "   ['employee engagement', 2],\n",
       "   ['communication', 1],\n",
       "   ['email campaigning', 1],\n",
       "   ['organizational culture', 1]],\n",
       "  23]]"
      ]
     },
     "execution_count": 63,
     "metadata": {},
     "output_type": "execute_result"
    }
   ],
   "source": [
    "skills_list[:1]"
   ]
  },
  {
   "cell_type": "code",
   "execution_count": 64,
   "metadata": {
    "ExecuteTime": {
     "end_time": "2020-06-28T01:28:35.989123Z",
     "start_time": "2020-06-28T01:28:35.961617Z"
    }
   },
   "outputs": [
    {
     "data": {
      "text/html": [
       "<div>\n",
       "<style scoped>\n",
       "    .dataframe tbody tr th:only-of-type {\n",
       "        vertical-align: middle;\n",
       "    }\n",
       "\n",
       "    .dataframe tbody tr th {\n",
       "        vertical-align: top;\n",
       "    }\n",
       "\n",
       "    .dataframe thead th {\n",
       "        text-align: right;\n",
       "    }\n",
       "</style>\n",
       "<table border=\"1\" class=\"dataframe\">\n",
       "  <thead>\n",
       "    <tr style=\"text-align: right;\">\n",
       "      <th></th>\n",
       "      <th>skills</th>\n",
       "      <th>total</th>\n",
       "    </tr>\n",
       "  </thead>\n",
       "  <tbody>\n",
       "    <tr>\n",
       "      <th>0</th>\n",
       "      <td>[[microsoft office, 3], [management, 3], [micr...</td>\n",
       "      <td>23</td>\n",
       "    </tr>\n",
       "    <tr>\n",
       "      <th>1</th>\n",
       "      <td>[[performance management, 1], [talent manageme...</td>\n",
       "      <td>12</td>\n",
       "    </tr>\n",
       "    <tr>\n",
       "      <th>2</th>\n",
       "      <td>[[management, 1], [photoshop, 1], [hr, 1], [mi...</td>\n",
       "      <td>9</td>\n",
       "    </tr>\n",
       "    <tr>\n",
       "      <th>3</th>\n",
       "      <td>[[leadership, 9], [strategy, 9], [program mana...</td>\n",
       "      <td>59</td>\n",
       "    </tr>\n",
       "    <tr>\n",
       "      <th>4</th>\n",
       "      <td>[[human resources, 18], [management, 12], [cus...</td>\n",
       "      <td>98</td>\n",
       "    </tr>\n",
       "  </tbody>\n",
       "</table>\n",
       "</div>"
      ],
      "text/plain": [
       "                                              skills  total\n",
       "0  [[microsoft office, 3], [management, 3], [micr...     23\n",
       "1  [[performance management, 1], [talent manageme...     12\n",
       "2  [[management, 1], [photoshop, 1], [hr, 1], [mi...      9\n",
       "3  [[leadership, 9], [strategy, 9], [program mana...     59\n",
       "4  [[human resources, 18], [management, 12], [cus...     98"
      ]
     },
     "execution_count": 64,
     "metadata": {},
     "output_type": "execute_result"
    }
   ],
   "source": [
    "skill_df = pd.DataFrame(skills_list, columns=['skills','total'])\n",
    "skill_df.head()"
   ]
  },
  {
   "cell_type": "code",
   "execution_count": 65,
   "metadata": {
    "ExecuteTime": {
     "end_time": "2020-06-28T01:28:36.025224Z",
     "start_time": "2020-06-28T01:28:35.991180Z"
    }
   },
   "outputs": [
    {
     "data": {
      "text/html": [
       "<div>\n",
       "<style scoped>\n",
       "    .dataframe tbody tr th:only-of-type {\n",
       "        vertical-align: middle;\n",
       "    }\n",
       "\n",
       "    .dataframe tbody tr th {\n",
       "        vertical-align: top;\n",
       "    }\n",
       "\n",
       "    .dataframe thead th {\n",
       "        text-align: right;\n",
       "    }\n",
       "</style>\n",
       "<table border=\"1\" class=\"dataframe\">\n",
       "  <thead>\n",
       "    <tr style=\"text-align: right;\">\n",
       "      <th></th>\n",
       "      <th>skills</th>\n",
       "      <th>total</th>\n",
       "    </tr>\n",
       "  </thead>\n",
       "  <tbody>\n",
       "    <tr>\n",
       "      <th>0</th>\n",
       "      <td>[microsoft office, 3]</td>\n",
       "      <td>23</td>\n",
       "    </tr>\n",
       "    <tr>\n",
       "      <th>0</th>\n",
       "      <td>[management, 3]</td>\n",
       "      <td>23</td>\n",
       "    </tr>\n",
       "    <tr>\n",
       "      <th>0</th>\n",
       "      <td>[microsoft excel, 3]</td>\n",
       "      <td>23</td>\n",
       "    </tr>\n",
       "    <tr>\n",
       "      <th>0</th>\n",
       "      <td>[human resources, 2]</td>\n",
       "      <td>23</td>\n",
       "    </tr>\n",
       "    <tr>\n",
       "      <th>0</th>\n",
       "      <td>[office administration, 1]</td>\n",
       "      <td>23</td>\n",
       "    </tr>\n",
       "  </tbody>\n",
       "</table>\n",
       "</div>"
      ],
      "text/plain": [
       "                       skills  total\n",
       "0       [microsoft office, 3]     23\n",
       "0             [management, 3]     23\n",
       "0        [microsoft excel, 3]     23\n",
       "0        [human resources, 2]     23\n",
       "0  [office administration, 1]     23"
      ]
     },
     "execution_count": 65,
     "metadata": {},
     "output_type": "execute_result"
    }
   ],
   "source": [
    "skill_df = skill_df.explode('skills')\n",
    "skill_df.head()"
   ]
  },
  {
   "cell_type": "code",
   "execution_count": 66,
   "metadata": {
    "ExecuteTime": {
     "end_time": "2020-06-28T01:28:36.030926Z",
     "start_time": "2020-06-28T01:28:36.027387Z"
    }
   },
   "outputs": [],
   "source": [
    "skill_df.reset_index(inplace = True)"
   ]
  },
  {
   "cell_type": "code",
   "execution_count": 67,
   "metadata": {
    "ExecuteTime": {
     "end_time": "2020-06-28T01:28:37.697045Z",
     "start_time": "2020-06-28T01:28:36.033032Z"
    }
   },
   "outputs": [
    {
     "data": {
      "text/html": [
       "<div>\n",
       "<style scoped>\n",
       "    .dataframe tbody tr th:only-of-type {\n",
       "        vertical-align: middle;\n",
       "    }\n",
       "\n",
       "    .dataframe tbody tr th {\n",
       "        vertical-align: top;\n",
       "    }\n",
       "\n",
       "    .dataframe thead th {\n",
       "        text-align: right;\n",
       "    }\n",
       "</style>\n",
       "<table border=\"1\" class=\"dataframe\">\n",
       "  <thead>\n",
       "    <tr style=\"text-align: right;\">\n",
       "      <th></th>\n",
       "      <th>index</th>\n",
       "      <th>skills</th>\n",
       "      <th>total</th>\n",
       "      <th>skill</th>\n",
       "      <th>endorsement_norm</th>\n",
       "    </tr>\n",
       "  </thead>\n",
       "  <tbody>\n",
       "    <tr>\n",
       "      <th>0</th>\n",
       "      <td>0</td>\n",
       "      <td>[microsoft office, 3]</td>\n",
       "      <td>23</td>\n",
       "      <td>microsoft office</td>\n",
       "      <td>0.130435</td>\n",
       "    </tr>\n",
       "    <tr>\n",
       "      <th>1</th>\n",
       "      <td>0</td>\n",
       "      <td>[management, 3]</td>\n",
       "      <td>23</td>\n",
       "      <td>management</td>\n",
       "      <td>0.130435</td>\n",
       "    </tr>\n",
       "    <tr>\n",
       "      <th>2</th>\n",
       "      <td>0</td>\n",
       "      <td>[microsoft excel, 3]</td>\n",
       "      <td>23</td>\n",
       "      <td>microsoft excel</td>\n",
       "      <td>0.130435</td>\n",
       "    </tr>\n",
       "    <tr>\n",
       "      <th>3</th>\n",
       "      <td>0</td>\n",
       "      <td>[human resources, 2]</td>\n",
       "      <td>23</td>\n",
       "      <td>human resources</td>\n",
       "      <td>0.086957</td>\n",
       "    </tr>\n",
       "    <tr>\n",
       "      <th>4</th>\n",
       "      <td>0</td>\n",
       "      <td>[office administration, 1]</td>\n",
       "      <td>23</td>\n",
       "      <td>office administration</td>\n",
       "      <td>0.043478</td>\n",
       "    </tr>\n",
       "  </tbody>\n",
       "</table>\n",
       "</div>"
      ],
      "text/plain": [
       "   index                      skills  total                  skill  \\\n",
       "0      0       [microsoft office, 3]     23       microsoft office   \n",
       "1      0             [management, 3]     23             management   \n",
       "2      0        [microsoft excel, 3]     23        microsoft excel   \n",
       "3      0        [human resources, 2]     23        human resources   \n",
       "4      0  [office administration, 1]     23  office administration   \n",
       "\n",
       "   endorsement_norm  \n",
       "0          0.130435  \n",
       "1          0.130435  \n",
       "2          0.130435  \n",
       "3          0.086957  \n",
       "4          0.043478  "
      ]
     },
     "execution_count": 67,
     "metadata": {},
     "output_type": "execute_result"
    }
   ],
   "source": [
    "# applying laplace smooting on endoresements (endorsement_norm)\n",
    "skill_df[\"skill\"] = skill_df[\"skills\"].apply(lambda x:x[0])\n",
    "skill_df[\"endorsement_norm\"] = skill_df.apply(lambda x:x[\"skills\"][1]/x[\"total\"], axis = 1) \n",
    "skill_df.head()"
   ]
  },
  {
   "cell_type": "code",
   "execution_count": 68,
   "metadata": {
    "ExecuteTime": {
     "end_time": "2020-06-28T01:28:44.134062Z",
     "start_time": "2020-06-28T01:28:44.129651Z"
    }
   },
   "outputs": [],
   "source": [
    "skill_df.drop([\"skills\",\"total\"],inplace = True, axis = 1)"
   ]
  },
  {
   "cell_type": "code",
   "execution_count": 69,
   "metadata": {
    "ExecuteTime": {
     "end_time": "2020-06-28T01:28:44.687574Z",
     "start_time": "2020-06-28T01:28:44.640470Z"
    }
   },
   "outputs": [
    {
     "data": {
      "text/html": [
       "<div>\n",
       "<style scoped>\n",
       "    .dataframe tbody tr th:only-of-type {\n",
       "        vertical-align: middle;\n",
       "    }\n",
       "\n",
       "    .dataframe tbody tr th {\n",
       "        vertical-align: top;\n",
       "    }\n",
       "\n",
       "    .dataframe thead th {\n",
       "        text-align: right;\n",
       "    }\n",
       "</style>\n",
       "<table border=\"1\" class=\"dataframe\">\n",
       "  <thead>\n",
       "    <tr style=\"text-align: right;\">\n",
       "      <th></th>\n",
       "      <th>index</th>\n",
       "      <th>skill</th>\n",
       "      <th>endorsement_norm</th>\n",
       "    </tr>\n",
       "  </thead>\n",
       "  <tbody>\n",
       "    <tr>\n",
       "      <th>0</th>\n",
       "      <td>0</td>\n",
       "      <td>bookkeeping</td>\n",
       "      <td>0.043478</td>\n",
       "    </tr>\n",
       "    <tr>\n",
       "      <th>1</th>\n",
       "      <td>0</td>\n",
       "      <td>communication</td>\n",
       "      <td>0.043478</td>\n",
       "    </tr>\n",
       "    <tr>\n",
       "      <th>2</th>\n",
       "      <td>0</td>\n",
       "      <td>email campaigning</td>\n",
       "      <td>0.043478</td>\n",
       "    </tr>\n",
       "    <tr>\n",
       "      <th>3</th>\n",
       "      <td>0</td>\n",
       "      <td>employee engagement</td>\n",
       "      <td>0.086957</td>\n",
       "    </tr>\n",
       "    <tr>\n",
       "      <th>4</th>\n",
       "      <td>0</td>\n",
       "      <td>human resources</td>\n",
       "      <td>0.086957</td>\n",
       "    </tr>\n",
       "  </tbody>\n",
       "</table>\n",
       "</div>"
      ],
      "text/plain": [
       "   index                skill  endorsement_norm\n",
       "0      0          bookkeeping          0.043478\n",
       "1      0        communication          0.043478\n",
       "2      0    email campaigning          0.043478\n",
       "3      0  employee engagement          0.086957\n",
       "4      0      human resources          0.086957"
      ]
     },
     "execution_count": 69,
     "metadata": {},
     "output_type": "execute_result"
    }
   ],
   "source": [
    "skill_df = skill_df.groupby([\"index\",\"skill\"]).agg({\"endorsement_norm\":\"sum\"}).reset_index()\n",
    "skill_df.head()"
   ]
  },
  {
   "cell_type": "code",
   "execution_count": 70,
   "metadata": {
    "ExecuteTime": {
     "end_time": "2020-06-28T01:28:52.846350Z",
     "start_time": "2020-06-28T01:28:51.984935Z"
    }
   },
   "outputs": [
    {
     "data": {
      "text/html": [
       "<div>\n",
       "<style scoped>\n",
       "    .dataframe tbody tr th:only-of-type {\n",
       "        vertical-align: middle;\n",
       "    }\n",
       "\n",
       "    .dataframe tbody tr th {\n",
       "        vertical-align: top;\n",
       "    }\n",
       "\n",
       "    .dataframe thead th {\n",
       "        text-align: right;\n",
       "    }\n",
       "</style>\n",
       "<table border=\"1\" class=\"dataframe\">\n",
       "  <thead>\n",
       "    <tr style=\"text-align: right;\">\n",
       "      <th>skill</th>\n",
       "      <th>.net</th>\n",
       "      <th>.net core</th>\n",
       "      <th>.net framework</th>\n",
       "      <th>1 с</th>\n",
       "      <th>10 key</th>\n",
       "      <th>10+ years installation and troubleshooting experience in all aspects of low vol</th>\n",
       "      <th>1031 exchanges</th>\n",
       "      <th>1099 preparation</th>\n",
       "      <th>10k</th>\n",
       "      <th>10q</th>\n",
       "      <th>...</th>\n",
       "      <th>마야</th>\n",
       "      <th>비디오 게임</th>\n",
       "      <th>소셜미디어</th>\n",
       "      <th>스토리보딩</th>\n",
       "      <th>애니메이션</th>\n",
       "      <th>예술</th>\n",
       "      <th>캐릭터 애니메이션</th>\n",
       "      <th>콘셉트디자인</th>\n",
       "      <th>트레이닝</th>\n",
       "      <th>포토샵</th>\n",
       "    </tr>\n",
       "    <tr>\n",
       "      <th>index</th>\n",
       "      <th></th>\n",
       "      <th></th>\n",
       "      <th></th>\n",
       "      <th></th>\n",
       "      <th></th>\n",
       "      <th></th>\n",
       "      <th></th>\n",
       "      <th></th>\n",
       "      <th></th>\n",
       "      <th></th>\n",
       "      <th></th>\n",
       "      <th></th>\n",
       "      <th></th>\n",
       "      <th></th>\n",
       "      <th></th>\n",
       "      <th></th>\n",
       "      <th></th>\n",
       "      <th></th>\n",
       "      <th></th>\n",
       "      <th></th>\n",
       "      <th></th>\n",
       "    </tr>\n",
       "  </thead>\n",
       "  <tbody>\n",
       "    <tr>\n",
       "      <th>0</th>\n",
       "      <td>0.0</td>\n",
       "      <td>0.0</td>\n",
       "      <td>0.0</td>\n",
       "      <td>0.0</td>\n",
       "      <td>0.0</td>\n",
       "      <td>0.0</td>\n",
       "      <td>0.0</td>\n",
       "      <td>0.0</td>\n",
       "      <td>0.0</td>\n",
       "      <td>0.0</td>\n",
       "      <td>...</td>\n",
       "      <td>0.0</td>\n",
       "      <td>0.0</td>\n",
       "      <td>0.0</td>\n",
       "      <td>0.0</td>\n",
       "      <td>0.0</td>\n",
       "      <td>0.0</td>\n",
       "      <td>0.0</td>\n",
       "      <td>0.0</td>\n",
       "      <td>0.0</td>\n",
       "      <td>0.0</td>\n",
       "    </tr>\n",
       "    <tr>\n",
       "      <th>1</th>\n",
       "      <td>0.0</td>\n",
       "      <td>0.0</td>\n",
       "      <td>0.0</td>\n",
       "      <td>0.0</td>\n",
       "      <td>0.0</td>\n",
       "      <td>0.0</td>\n",
       "      <td>0.0</td>\n",
       "      <td>0.0</td>\n",
       "      <td>0.0</td>\n",
       "      <td>0.0</td>\n",
       "      <td>...</td>\n",
       "      <td>0.0</td>\n",
       "      <td>0.0</td>\n",
       "      <td>0.0</td>\n",
       "      <td>0.0</td>\n",
       "      <td>0.0</td>\n",
       "      <td>0.0</td>\n",
       "      <td>0.0</td>\n",
       "      <td>0.0</td>\n",
       "      <td>0.0</td>\n",
       "      <td>0.0</td>\n",
       "    </tr>\n",
       "    <tr>\n",
       "      <th>2</th>\n",
       "      <td>0.0</td>\n",
       "      <td>0.0</td>\n",
       "      <td>0.0</td>\n",
       "      <td>0.0</td>\n",
       "      <td>0.0</td>\n",
       "      <td>0.0</td>\n",
       "      <td>0.0</td>\n",
       "      <td>0.0</td>\n",
       "      <td>0.0</td>\n",
       "      <td>0.0</td>\n",
       "      <td>...</td>\n",
       "      <td>0.0</td>\n",
       "      <td>0.0</td>\n",
       "      <td>0.0</td>\n",
       "      <td>0.0</td>\n",
       "      <td>0.0</td>\n",
       "      <td>0.0</td>\n",
       "      <td>0.0</td>\n",
       "      <td>0.0</td>\n",
       "      <td>0.0</td>\n",
       "      <td>0.0</td>\n",
       "    </tr>\n",
       "    <tr>\n",
       "      <th>3</th>\n",
       "      <td>0.0</td>\n",
       "      <td>0.0</td>\n",
       "      <td>0.0</td>\n",
       "      <td>0.0</td>\n",
       "      <td>0.0</td>\n",
       "      <td>0.0</td>\n",
       "      <td>0.0</td>\n",
       "      <td>0.0</td>\n",
       "      <td>0.0</td>\n",
       "      <td>0.0</td>\n",
       "      <td>...</td>\n",
       "      <td>0.0</td>\n",
       "      <td>0.0</td>\n",
       "      <td>0.0</td>\n",
       "      <td>0.0</td>\n",
       "      <td>0.0</td>\n",
       "      <td>0.0</td>\n",
       "      <td>0.0</td>\n",
       "      <td>0.0</td>\n",
       "      <td>0.0</td>\n",
       "      <td>0.0</td>\n",
       "    </tr>\n",
       "    <tr>\n",
       "      <th>4</th>\n",
       "      <td>0.0</td>\n",
       "      <td>0.0</td>\n",
       "      <td>0.0</td>\n",
       "      <td>0.0</td>\n",
       "      <td>0.0</td>\n",
       "      <td>0.0</td>\n",
       "      <td>0.0</td>\n",
       "      <td>0.0</td>\n",
       "      <td>0.0</td>\n",
       "      <td>0.0</td>\n",
       "      <td>...</td>\n",
       "      <td>0.0</td>\n",
       "      <td>0.0</td>\n",
       "      <td>0.0</td>\n",
       "      <td>0.0</td>\n",
       "      <td>0.0</td>\n",
       "      <td>0.0</td>\n",
       "      <td>0.0</td>\n",
       "      <td>0.0</td>\n",
       "      <td>0.0</td>\n",
       "      <td>0.0</td>\n",
       "    </tr>\n",
       "  </tbody>\n",
       "</table>\n",
       "<p>5 rows × 9063 columns</p>\n",
       "</div>"
      ],
      "text/plain": [
       "skill  .net  .net core  .net framework  1 с  10 key  \\\n",
       "index                                                 \n",
       "0       0.0        0.0             0.0  0.0     0.0   \n",
       "1       0.0        0.0             0.0  0.0     0.0   \n",
       "2       0.0        0.0             0.0  0.0     0.0   \n",
       "3       0.0        0.0             0.0  0.0     0.0   \n",
       "4       0.0        0.0             0.0  0.0     0.0   \n",
       "\n",
       "skill  10+ years installation and troubleshooting experience in all aspects of low vol  \\\n",
       "index                                                                                    \n",
       "0                                                    0.0                                 \n",
       "1                                                    0.0                                 \n",
       "2                                                    0.0                                 \n",
       "3                                                    0.0                                 \n",
       "4                                                    0.0                                 \n",
       "\n",
       "skill  1031 exchanges  1099 preparation  10k  10q  ...   마야  비디오 게임  소셜미디어  \\\n",
       "index                                              ...                       \n",
       "0                 0.0               0.0  0.0  0.0  ...  0.0     0.0    0.0   \n",
       "1                 0.0               0.0  0.0  0.0  ...  0.0     0.0    0.0   \n",
       "2                 0.0               0.0  0.0  0.0  ...  0.0     0.0    0.0   \n",
       "3                 0.0               0.0  0.0  0.0  ...  0.0     0.0    0.0   \n",
       "4                 0.0               0.0  0.0  0.0  ...  0.0     0.0    0.0   \n",
       "\n",
       "skill  스토리보딩  애니메이션   예술  캐릭터 애니메이션  콘셉트디자인  트레이닝  포토샵  \n",
       "index                                                   \n",
       "0        0.0    0.0  0.0        0.0     0.0   0.0  0.0  \n",
       "1        0.0    0.0  0.0        0.0     0.0   0.0  0.0  \n",
       "2        0.0    0.0  0.0        0.0     0.0   0.0  0.0  \n",
       "3        0.0    0.0  0.0        0.0     0.0   0.0  0.0  \n",
       "4        0.0    0.0  0.0        0.0     0.0   0.0  0.0  \n",
       "\n",
       "[5 rows x 9063 columns]"
      ]
     },
     "execution_count": 70,
     "metadata": {},
     "output_type": "execute_result"
    }
   ],
   "source": [
    "skill_df = skill_df.pivot(index = \"index\", columns = \"skill\", values = \"endorsement_norm\").fillna(0)\n",
    "skill_df.head()"
   ]
  },
  {
   "cell_type": "code",
   "execution_count": 71,
   "metadata": {
    "ExecuteTime": {
     "end_time": "2020-06-28T01:29:00.438552Z",
     "start_time": "2020-06-28T01:29:00.433534Z"
    }
   },
   "outputs": [],
   "source": [
    "skills_vocabulory = list(skill_df.columns)"
   ]
  },
  {
   "cell_type": "code",
   "execution_count": 72,
   "metadata": {
    "ExecuteTime": {
     "end_time": "2020-06-28T01:29:02.561202Z",
     "start_time": "2020-06-28T01:29:02.557706Z"
    },
    "scrolled": true
   },
   "outputs": [
    {
     "data": {
      "text/plain": [
       "['.net', '.net core', '.net framework', '1 с', '10 key']"
      ]
     },
     "execution_count": 72,
     "metadata": {},
     "output_type": "execute_result"
    }
   ],
   "source": [
    "skills_vocabulory[:5]"
   ]
  },
  {
   "cell_type": "code",
   "execution_count": 75,
   "metadata": {
    "ExecuteTime": {
     "end_time": "2020-06-28T01:30:02.684901Z",
     "start_time": "2020-06-28T01:30:02.681120Z"
    }
   },
   "outputs": [
    {
     "data": {
      "text/plain": [
       "9063"
      ]
     },
     "execution_count": 75,
     "metadata": {},
     "output_type": "execute_result"
    }
   ],
   "source": [
    "# unique number of skills\n",
    "len(skills_vocabulory)"
   ]
  },
  {
   "cell_type": "code",
   "execution_count": 76,
   "metadata": {
    "ExecuteTime": {
     "end_time": "2020-06-28T01:30:02.939337Z",
     "start_time": "2020-06-28T01:30:02.931379Z"
    }
   },
   "outputs": [],
   "source": [
    "with open('../data/skills_vocabulory.txt', 'w') as filehandle:\n",
    "    for listitem in skills_vocabulory:\n",
    "        filehandle.write('%s\\n' % listitem)"
   ]
  },
  {
   "cell_type": "code",
   "execution_count": 77,
   "metadata": {
    "ExecuteTime": {
     "end_time": "2020-06-28T01:30:03.207596Z",
     "start_time": "2020-06-28T01:30:03.200384Z"
    }
   },
   "outputs": [
    {
     "data": {
      "text/html": [
       "<div>\n",
       "<style scoped>\n",
       "    .dataframe tbody tr th:only-of-type {\n",
       "        vertical-align: middle;\n",
       "    }\n",
       "\n",
       "    .dataframe tbody tr th {\n",
       "        vertical-align: top;\n",
       "    }\n",
       "\n",
       "    .dataframe thead th {\n",
       "        text-align: right;\n",
       "    }\n",
       "</style>\n",
       "<table border=\"1\" class=\"dataframe\">\n",
       "  <thead>\n",
       "    <tr style=\"text-align: right;\">\n",
       "      <th></th>\n",
       "      <th>name</th>\n",
       "      <th>role</th>\n",
       "    </tr>\n",
       "  </thead>\n",
       "  <tbody>\n",
       "    <tr>\n",
       "      <th>0</th>\n",
       "      <td>chloe-dion-74762aa7</td>\n",
       "      <td>hr_manager</td>\n",
       "    </tr>\n",
       "    <tr>\n",
       "      <th>1</th>\n",
       "      <td>cindy-cross-b00b0a14</td>\n",
       "      <td>hr_manager</td>\n",
       "    </tr>\n",
       "    <tr>\n",
       "      <th>2</th>\n",
       "      <td>valeen-w-9b7320178</td>\n",
       "      <td>hr_manager</td>\n",
       "    </tr>\n",
       "    <tr>\n",
       "      <th>3</th>\n",
       "      <td>tracy-cheng-a041542b</td>\n",
       "      <td>hr_manager</td>\n",
       "    </tr>\n",
       "    <tr>\n",
       "      <th>4</th>\n",
       "      <td>anne-savitch-2a179111a</td>\n",
       "      <td>hr_manager</td>\n",
       "    </tr>\n",
       "  </tbody>\n",
       "</table>\n",
       "</div>"
      ],
      "text/plain": [
       "                     name        role\n",
       "0     chloe-dion-74762aa7  hr_manager\n",
       "1    cindy-cross-b00b0a14  hr_manager\n",
       "2      valeen-w-9b7320178  hr_manager\n",
       "3    tracy-cheng-a041542b  hr_manager\n",
       "4  anne-savitch-2a179111a  hr_manager"
      ]
     },
     "execution_count": 77,
     "metadata": {},
     "output_type": "execute_result"
    }
   ],
   "source": [
    "candidate_df.head()"
   ]
  },
  {
   "cell_type": "code",
   "execution_count": 78,
   "metadata": {
    "ExecuteTime": {
     "end_time": "2020-06-28T01:30:03.565053Z",
     "start_time": "2020-06-28T01:30:03.504438Z"
    }
   },
   "outputs": [],
   "source": [
    "# concatinate candidates with their skills\n",
    "candidate_skills_df = pd.concat([candidate_df, skill_df], axis=1)"
   ]
  },
  {
   "cell_type": "code",
   "execution_count": 79,
   "metadata": {
    "ExecuteTime": {
     "end_time": "2020-06-28T01:30:29.485204Z",
     "start_time": "2020-06-28T01:30:03.893547Z"
    }
   },
   "outputs": [],
   "source": [
    "candidate_skills_df.to_csv(\"../data/skills.csv\")"
   ]
  },
  {
   "cell_type": "code",
   "execution_count": 80,
   "metadata": {
    "ExecuteTime": {
     "end_time": "2020-06-28T01:30:43.629076Z",
     "start_time": "2020-06-28T01:30:29.487402Z"
    }
   },
   "outputs": [],
   "source": [
    "candidate_skills_df = pd.read_csv(\"../data/skills.csv\")"
   ]
  },
  {
   "cell_type": "code",
   "execution_count": 81,
   "metadata": {
    "ExecuteTime": {
     "end_time": "2020-06-28T01:30:43.674020Z",
     "start_time": "2020-06-28T01:30:43.631847Z"
    }
   },
   "outputs": [
    {
     "data": {
      "text/html": [
       "<div>\n",
       "<style scoped>\n",
       "    .dataframe tbody tr th:only-of-type {\n",
       "        vertical-align: middle;\n",
       "    }\n",
       "\n",
       "    .dataframe tbody tr th {\n",
       "        vertical-align: top;\n",
       "    }\n",
       "\n",
       "    .dataframe thead th {\n",
       "        text-align: right;\n",
       "    }\n",
       "</style>\n",
       "<table border=\"1\" class=\"dataframe\">\n",
       "  <thead>\n",
       "    <tr style=\"text-align: right;\">\n",
       "      <th></th>\n",
       "      <th>Unnamed: 0</th>\n",
       "      <th>name</th>\n",
       "      <th>role</th>\n",
       "      <th>.net</th>\n",
       "      <th>.net core</th>\n",
       "      <th>.net framework</th>\n",
       "      <th>1 с</th>\n",
       "      <th>10 key</th>\n",
       "      <th>10+ years installation and troubleshooting experience in all aspects of low vol</th>\n",
       "      <th>1031 exchanges</th>\n",
       "      <th>...</th>\n",
       "      <th>마야</th>\n",
       "      <th>비디오 게임</th>\n",
       "      <th>소셜미디어</th>\n",
       "      <th>스토리보딩</th>\n",
       "      <th>애니메이션</th>\n",
       "      <th>예술</th>\n",
       "      <th>캐릭터 애니메이션</th>\n",
       "      <th>콘셉트디자인</th>\n",
       "      <th>트레이닝</th>\n",
       "      <th>포토샵</th>\n",
       "    </tr>\n",
       "  </thead>\n",
       "  <tbody>\n",
       "    <tr>\n",
       "      <th>0</th>\n",
       "      <td>0</td>\n",
       "      <td>chloe-dion-74762aa7</td>\n",
       "      <td>hr_manager</td>\n",
       "      <td>0.0</td>\n",
       "      <td>0.0</td>\n",
       "      <td>0.0</td>\n",
       "      <td>0.0</td>\n",
       "      <td>0.0</td>\n",
       "      <td>0.0</td>\n",
       "      <td>0.0</td>\n",
       "      <td>...</td>\n",
       "      <td>0.0</td>\n",
       "      <td>0.0</td>\n",
       "      <td>0.0</td>\n",
       "      <td>0.0</td>\n",
       "      <td>0.0</td>\n",
       "      <td>0.0</td>\n",
       "      <td>0.0</td>\n",
       "      <td>0.0</td>\n",
       "      <td>0.0</td>\n",
       "      <td>0.0</td>\n",
       "    </tr>\n",
       "    <tr>\n",
       "      <th>1</th>\n",
       "      <td>1</td>\n",
       "      <td>cindy-cross-b00b0a14</td>\n",
       "      <td>hr_manager</td>\n",
       "      <td>0.0</td>\n",
       "      <td>0.0</td>\n",
       "      <td>0.0</td>\n",
       "      <td>0.0</td>\n",
       "      <td>0.0</td>\n",
       "      <td>0.0</td>\n",
       "      <td>0.0</td>\n",
       "      <td>...</td>\n",
       "      <td>0.0</td>\n",
       "      <td>0.0</td>\n",
       "      <td>0.0</td>\n",
       "      <td>0.0</td>\n",
       "      <td>0.0</td>\n",
       "      <td>0.0</td>\n",
       "      <td>0.0</td>\n",
       "      <td>0.0</td>\n",
       "      <td>0.0</td>\n",
       "      <td>0.0</td>\n",
       "    </tr>\n",
       "    <tr>\n",
       "      <th>2</th>\n",
       "      <td>2</td>\n",
       "      <td>valeen-w-9b7320178</td>\n",
       "      <td>hr_manager</td>\n",
       "      <td>0.0</td>\n",
       "      <td>0.0</td>\n",
       "      <td>0.0</td>\n",
       "      <td>0.0</td>\n",
       "      <td>0.0</td>\n",
       "      <td>0.0</td>\n",
       "      <td>0.0</td>\n",
       "      <td>...</td>\n",
       "      <td>0.0</td>\n",
       "      <td>0.0</td>\n",
       "      <td>0.0</td>\n",
       "      <td>0.0</td>\n",
       "      <td>0.0</td>\n",
       "      <td>0.0</td>\n",
       "      <td>0.0</td>\n",
       "      <td>0.0</td>\n",
       "      <td>0.0</td>\n",
       "      <td>0.0</td>\n",
       "    </tr>\n",
       "    <tr>\n",
       "      <th>3</th>\n",
       "      <td>3</td>\n",
       "      <td>tracy-cheng-a041542b</td>\n",
       "      <td>hr_manager</td>\n",
       "      <td>0.0</td>\n",
       "      <td>0.0</td>\n",
       "      <td>0.0</td>\n",
       "      <td>0.0</td>\n",
       "      <td>0.0</td>\n",
       "      <td>0.0</td>\n",
       "      <td>0.0</td>\n",
       "      <td>...</td>\n",
       "      <td>0.0</td>\n",
       "      <td>0.0</td>\n",
       "      <td>0.0</td>\n",
       "      <td>0.0</td>\n",
       "      <td>0.0</td>\n",
       "      <td>0.0</td>\n",
       "      <td>0.0</td>\n",
       "      <td>0.0</td>\n",
       "      <td>0.0</td>\n",
       "      <td>0.0</td>\n",
       "    </tr>\n",
       "    <tr>\n",
       "      <th>4</th>\n",
       "      <td>4</td>\n",
       "      <td>anne-savitch-2a179111a</td>\n",
       "      <td>hr_manager</td>\n",
       "      <td>0.0</td>\n",
       "      <td>0.0</td>\n",
       "      <td>0.0</td>\n",
       "      <td>0.0</td>\n",
       "      <td>0.0</td>\n",
       "      <td>0.0</td>\n",
       "      <td>0.0</td>\n",
       "      <td>...</td>\n",
       "      <td>0.0</td>\n",
       "      <td>0.0</td>\n",
       "      <td>0.0</td>\n",
       "      <td>0.0</td>\n",
       "      <td>0.0</td>\n",
       "      <td>0.0</td>\n",
       "      <td>0.0</td>\n",
       "      <td>0.0</td>\n",
       "      <td>0.0</td>\n",
       "      <td>0.0</td>\n",
       "    </tr>\n",
       "  </tbody>\n",
       "</table>\n",
       "<p>5 rows × 9066 columns</p>\n",
       "</div>"
      ],
      "text/plain": [
       "   Unnamed: 0                    name        role  .net  .net core  \\\n",
       "0           0     chloe-dion-74762aa7  hr_manager   0.0        0.0   \n",
       "1           1    cindy-cross-b00b0a14  hr_manager   0.0        0.0   \n",
       "2           2      valeen-w-9b7320178  hr_manager   0.0        0.0   \n",
       "3           3    tracy-cheng-a041542b  hr_manager   0.0        0.0   \n",
       "4           4  anne-savitch-2a179111a  hr_manager   0.0        0.0   \n",
       "\n",
       "   .net framework  1 с  10 key  \\\n",
       "0             0.0  0.0     0.0   \n",
       "1             0.0  0.0     0.0   \n",
       "2             0.0  0.0     0.0   \n",
       "3             0.0  0.0     0.0   \n",
       "4             0.0  0.0     0.0   \n",
       "\n",
       "   10+ years installation and troubleshooting experience in all aspects of low vol  \\\n",
       "0                                                0.0                                 \n",
       "1                                                0.0                                 \n",
       "2                                                0.0                                 \n",
       "3                                                0.0                                 \n",
       "4                                                0.0                                 \n",
       "\n",
       "   1031 exchanges  ...   마야  비디오 게임  소셜미디어  스토리보딩  애니메이션   예술  캐릭터 애니메이션  \\\n",
       "0             0.0  ...  0.0     0.0    0.0    0.0    0.0  0.0        0.0   \n",
       "1             0.0  ...  0.0     0.0    0.0    0.0    0.0  0.0        0.0   \n",
       "2             0.0  ...  0.0     0.0    0.0    0.0    0.0  0.0        0.0   \n",
       "3             0.0  ...  0.0     0.0    0.0    0.0    0.0  0.0        0.0   \n",
       "4             0.0  ...  0.0     0.0    0.0    0.0    0.0  0.0        0.0   \n",
       "\n",
       "   콘셉트디자인  트레이닝  포토샵  \n",
       "0     0.0   0.0  0.0  \n",
       "1     0.0   0.0  0.0  \n",
       "2     0.0   0.0  0.0  \n",
       "3     0.0   0.0  0.0  \n",
       "4     0.0   0.0  0.0  \n",
       "\n",
       "[5 rows x 9066 columns]"
      ]
     },
     "execution_count": 81,
     "metadata": {},
     "output_type": "execute_result"
    }
   ],
   "source": [
    "candidate_skills_df.head()"
   ]
  },
  {
   "cell_type": "code",
   "execution_count": 82,
   "metadata": {
    "ExecuteTime": {
     "end_time": "2020-06-28T01:30:43.837036Z",
     "start_time": "2020-06-28T01:30:43.676200Z"
    }
   },
   "outputs": [],
   "source": [
    "if 'Unnamed: 0' in candidate_skills_df.columns:\n",
    "    candidate_skills_df = candidate_skills_df.drop(['Unnamed: 0'], axis = 1)"
   ]
  },
  {
   "cell_type": "code",
   "execution_count": 83,
   "metadata": {
    "ExecuteTime": {
     "end_time": "2020-06-28T01:31:06.748966Z",
     "start_time": "2020-06-28T01:31:04.615634Z"
    }
   },
   "outputs": [],
   "source": [
    "# contructing broad roles \n",
    "for i in range(candidate_skills_df.shape[0]):\n",
    "    if candidate_skills_df.loc[i,\"role\"] in [\"hr_manager\",\"recruiter\",\"human_resource_assistant\"]:\n",
    "        candidate_skills_df.loc[i, \"broad_role\"] = \"Human Resources\"\n",
    "    if candidate_skills_df.loc[i,\"role\"] in [\"mechanical_engineer\",\"hardware_engineer\",\"construction_engineer\",\"network_engineer\",\"software_engineer\",\"data_scientist\"]:\n",
    "        candidate_skills_df.loc[i, \"broad_role\"] = \"Engineering\"\n",
    "    if candidate_skills_df.loc[i,\"role\"] in [\"marketing_lead\",\"sales_representative\"]:\n",
    "        candidate_skills_df.loc[i, \"broad_role\"] = \"Marketing and Sales\"\n",
    "    if candidate_skills_df.loc[i,\"role\"] in [\"concept_artist\", \"technical_writer\",\"concept_designer\",\"editor\"]:\n",
    "        candidate_skills_df.loc[i, \"broad_role\"] = \"Arts, Design and Writing\"\n",
    "    if candidate_skills_df.loc[i,\"role\"] in [\"accountant\"]:\n",
    "        candidate_skills_df.loc[i, \"broad_role\"] = \"Accounting\""
   ]
  },
  {
   "cell_type": "markdown",
   "metadata": {},
   "source": [
    "# Data Visualization"
   ]
  },
  {
   "cell_type": "markdown",
   "metadata": {},
   "source": [
    "## AWS as skills for deep role vs broad role "
   ]
  },
  {
   "cell_type": "code",
   "execution_count": 24,
   "metadata": {
    "ExecuteTime": {
     "end_time": "2020-06-28T00:39:13.257719Z",
     "start_time": "2020-06-28T00:39:13.042002Z"
    },
    "scrolled": true
   },
   "outputs": [
    {
     "data": {
      "text/plain": [
       "<matplotlib.axes._subplots.AxesSubplot at 0x7f82af300668>"
      ]
     },
     "execution_count": 24,
     "metadata": {},
     "output_type": "execute_result"
    },
    {
     "data": {
      "image/png": "[encoded data removed]",
      "text/plain": [
       "<Figure size 432x288 with 1 Axes>"
      ]
     },
     "metadata": {
      "needs_background": "light"
     },
     "output_type": "display_data"
    }
   ],
   "source": [
    "candidate_skills_df[candidate_skills_df[\"amazon web services (aws)\"] > 0].role.value_counts(normalize=True).apply(lambda x :x*100).plot(kind='barh')"
   ]
  },
  {
   "cell_type": "code",
   "execution_count": 25,
   "metadata": {
    "ExecuteTime": {
     "end_time": "2020-06-28T00:39:13.416934Z",
     "start_time": "2020-06-28T00:39:13.260145Z"
    }
   },
   "outputs": [
    {
     "data": {
      "text/plain": [
       "<matplotlib.axes._subplots.AxesSubplot at 0x7f82a81c5fd0>"
      ]
     },
     "execution_count": 25,
     "metadata": {},
     "output_type": "execute_result"
    },
    {
     "data": {
      "image/png": "[encoded data removed]",
      "text/plain": [
       "<Figure size 432x288 with 1 Axes>"
      ]
     },
     "metadata": {
      "needs_background": "light"
     },
     "output_type": "display_data"
    }
   ],
   "source": [
    "candidate_skills_df[candidate_skills_df[\"amazon web services (aws)\"] > 0].broad_role.value_counts(normalize=True).apply(lambda x :x*100).plot(kind='barh')"
   ]
  },
  {
   "cell_type": "markdown",
   "metadata": {},
   "source": [
    "## Python as skills for deep role vs broad role  "
   ]
  },
  {
   "cell_type": "code",
   "execution_count": 26,
   "metadata": {
    "ExecuteTime": {
     "end_time": "2020-06-28T00:39:13.651055Z",
     "start_time": "2020-06-28T00:39:13.418842Z"
    }
   },
   "outputs": [
    {
     "data": {
      "text/plain": [
       "<matplotlib.axes._subplots.AxesSubplot at 0x7f827de14208>"
      ]
     },
     "execution_count": 26,
     "metadata": {},
     "output_type": "execute_result"
    },
    {
     "data": {
      "image/png": "[encoded data removed]",
      "text/plain": [
       "<Figure size 432x288 with 1 Axes>"
      ]
     },
     "metadata": {
      "needs_background": "light"
     },
     "output_type": "display_data"
    }
   ],
   "source": [
    "candidate_skills_df[candidate_skills_df[\"python\"] > 0].role.value_counts(normalize=True).apply(lambda x :x*100).plot(kind='barh')"
   ]
  },
  {
   "cell_type": "code",
   "execution_count": 27,
   "metadata": {
    "ExecuteTime": {
     "end_time": "2020-06-28T00:39:13.820504Z",
     "start_time": "2020-06-28T00:39:13.653084Z"
    }
   },
   "outputs": [
    {
     "data": {
      "text/plain": [
       "<matplotlib.axes._subplots.AxesSubplot at 0x7f827c136a20>"
      ]
     },
     "execution_count": 27,
     "metadata": {},
     "output_type": "execute_result"
    },
    {
     "data": {
      "image/png": "[encoded data removed]",
      "text/plain": [
       "<Figure size 432x288 with 1 Axes>"
      ]
     },
     "metadata": {
      "needs_background": "light"
     },
     "output_type": "display_data"
    }
   ],
   "source": [
    "candidate_skills_df[candidate_skills_df[\"python\"] > 0].broad_role.value_counts(normalize=True).apply(lambda x :x*100).plot(kind='barh')"
   ]
  },
  {
   "cell_type": "markdown",
   "metadata": {},
   "source": [
    "## Research as skills for deep role vs broad role "
   ]
  },
  {
   "cell_type": "code",
   "execution_count": 28,
   "metadata": {
    "ExecuteTime": {
     "end_time": "2020-06-28T00:39:14.081879Z",
     "start_time": "2020-06-28T00:39:13.822415Z"
    }
   },
   "outputs": [
    {
     "data": {
      "text/plain": [
       "<matplotlib.axes._subplots.AxesSubplot at 0x7f827b3114e0>"
      ]
     },
     "execution_count": 28,
     "metadata": {},
     "output_type": "execute_result"
    },
    {
     "data": {
      "image/png": "[encoded data removed]",
      "text/plain": [
       "<Figure size 432x288 with 1 Axes>"
      ]
     },
     "metadata": {
      "needs_background": "light"
     },
     "output_type": "display_data"
    }
   ],
   "source": [
    "candidate_skills_df[candidate_skills_df[\"research\"] > 0].role.value_counts(normalize=True).apply(lambda x :x*100).plot(kind='barh')"
   ]
  },
  {
   "cell_type": "code",
   "execution_count": 29,
   "metadata": {
    "ExecuteTime": {
     "end_time": "2020-06-28T00:39:14.245985Z",
     "start_time": "2020-06-28T00:39:14.083761Z"
    }
   },
   "outputs": [
    {
     "data": {
      "text/plain": [
       "<matplotlib.axes._subplots.AxesSubplot at 0x7f82b8465e10>"
      ]
     },
     "execution_count": 29,
     "metadata": {},
     "output_type": "execute_result"
    },
    {
     "data": {
      "image/png": "[encoded data removed]",
      "text/plain": [
       "<Figure size 432x288 with 1 Axes>"
      ]
     },
     "metadata": {
      "needs_background": "light"
     },
     "output_type": "display_data"
    }
   ],
   "source": [
    "candidate_skills_df[candidate_skills_df[\"research\"] > 0].broad_role.value_counts(normalize=True).apply(lambda x :x*100).plot(kind='barh')"
   ]
  },
  {
   "cell_type": "markdown",
   "metadata": {},
   "source": [
    "## Visualizing profile distribution for deep roles"
   ]
  },
  {
   "cell_type": "code",
   "execution_count": 84,
   "metadata": {
    "ExecuteTime": {
     "end_time": "2020-06-28T01:34:14.476413Z",
     "start_time": "2020-06-28T01:34:14.312118Z"
    }
   },
   "outputs": [
    {
     "data": {
      "image/png": "[encoded data removed]",
      "text/plain": [
       "<Figure size 432x288 with 1 Axes>"
      ]
     },
     "metadata": {},
     "output_type": "display_data"
    }
   ],
   "source": [
    "# Visualizing Outcome Distribution \n",
    "temp = candidate_skills_df[\"role\"].value_counts()\n",
    "df = pd.DataFrame({'labels': temp.index,\n",
    "                   'values': temp.values\n",
    "                  })\n",
    "\n",
    "#df.plot(kind='pie',labels='labels',values='values', title='Activity Ditribution',subplots= \"True\")\n",
    "\n",
    "labels = df['labels']\n",
    "sizes = df['values']\n",
    "colors = ['yellowgreen', 'gold', 'lightskyblue', 'lightcoral','cyan','lightpink','red','violet', 'black','blue']\n",
    "patches, texts = plt.pie(sizes, colors=colors, shadow=True, startangle=90, pctdistance=1.1, labeldistance=1.2)\n",
    "plt.legend(patches, labels, loc=\"best\")\n",
    "plt.axis('equal')\n",
    "plt.tight_layout()\n",
    "plt.show()"
   ]
  },
  {
   "cell_type": "markdown",
   "metadata": {},
   "source": [
    "# Data Modelling - XGBoost"
   ]
  },
  {
   "cell_type": "code",
   "execution_count": 85,
   "metadata": {
    "ExecuteTime": {
     "end_time": "2020-06-28T01:34:27.966237Z",
     "start_time": "2020-06-28T01:34:27.962764Z"
    }
   },
   "outputs": [
    {
     "data": {
      "text/plain": [
       "(3307, 9066)"
      ]
     },
     "execution_count": 85,
     "metadata": {},
     "output_type": "execute_result"
    }
   ],
   "source": [
    "candidate_skills_df.shape"
   ]
  },
  {
   "cell_type": "code",
   "execution_count": 86,
   "metadata": {
    "ExecuteTime": {
     "end_time": "2020-06-28T01:34:29.413018Z",
     "start_time": "2020-06-28T01:34:29.407379Z"
    }
   },
   "outputs": [
    {
     "data": {
      "text/plain": [
       "accountant               421\n",
       "mechanical_engineer      295\n",
       "sales_representative     277\n",
       "hr_manager               275\n",
       "hardware_engineer        275\n",
       "construction_engineer    249\n",
       "concept_artist           245\n",
       "network_engineer         219\n",
       "marketing_lead           219\n",
       "software_engineer        218\n",
       "data_scientist           210\n",
       "technical_writer         168\n",
       "recruiter                119\n",
       "concept_designer         117\n",
       "Name: role, dtype: int64"
      ]
     },
     "execution_count": 86,
     "metadata": {},
     "output_type": "execute_result"
    }
   ],
   "source": [
    "candidate_skills_df.role.value_counts()"
   ]
  },
  {
   "cell_type": "code",
   "execution_count": 87,
   "metadata": {
    "ExecuteTime": {
     "end_time": "2020-06-28T01:36:16.561083Z",
     "start_time": "2020-06-28T01:36:16.555563Z"
    }
   },
   "outputs": [
    {
     "data": {
      "text/plain": [
       "Engineering                 1466\n",
       "Arts, Design and Writing     530\n",
       "Marketing and Sales          496\n",
       "Accounting                   421\n",
       "Human Resources              394\n",
       "Name: broad_role, dtype: int64"
      ]
     },
     "execution_count": 87,
     "metadata": {},
     "output_type": "execute_result"
    }
   ],
   "source": [
    "candidate_skills_df.broad_role.value_counts()"
   ]
  },
  {
   "cell_type": "code",
   "execution_count": 88,
   "metadata": {
    "ExecuteTime": {
     "end_time": "2020-06-28T01:36:17.361461Z",
     "start_time": "2020-06-28T01:36:17.339056Z"
    }
   },
   "outputs": [
    {
     "data": {
      "text/html": [
       "<div>\n",
       "<style scoped>\n",
       "    .dataframe tbody tr th:only-of-type {\n",
       "        vertical-align: middle;\n",
       "    }\n",
       "\n",
       "    .dataframe tbody tr th {\n",
       "        vertical-align: top;\n",
       "    }\n",
       "\n",
       "    .dataframe thead th {\n",
       "        text-align: right;\n",
       "    }\n",
       "</style>\n",
       "<table border=\"1\" class=\"dataframe\">\n",
       "  <thead>\n",
       "    <tr style=\"text-align: right;\">\n",
       "      <th></th>\n",
       "      <th>name</th>\n",
       "      <th>role</th>\n",
       "      <th>.net</th>\n",
       "      <th>.net core</th>\n",
       "      <th>.net framework</th>\n",
       "      <th>1 с</th>\n",
       "      <th>10 key</th>\n",
       "      <th>10+ years installation and troubleshooting experience in all aspects of low vol</th>\n",
       "      <th>1031 exchanges</th>\n",
       "      <th>1099 preparation</th>\n",
       "      <th>...</th>\n",
       "      <th>비디오 게임</th>\n",
       "      <th>소셜미디어</th>\n",
       "      <th>스토리보딩</th>\n",
       "      <th>애니메이션</th>\n",
       "      <th>예술</th>\n",
       "      <th>캐릭터 애니메이션</th>\n",
       "      <th>콘셉트디자인</th>\n",
       "      <th>트레이닝</th>\n",
       "      <th>포토샵</th>\n",
       "      <th>broad_role</th>\n",
       "    </tr>\n",
       "  </thead>\n",
       "  <tbody>\n",
       "    <tr>\n",
       "      <th>0</th>\n",
       "      <td>chloe-dion-74762aa7</td>\n",
       "      <td>hr_manager</td>\n",
       "      <td>0.0</td>\n",
       "      <td>0.0</td>\n",
       "      <td>0.0</td>\n",
       "      <td>0.0</td>\n",
       "      <td>0.0</td>\n",
       "      <td>0.0</td>\n",
       "      <td>0.0</td>\n",
       "      <td>0.0</td>\n",
       "      <td>...</td>\n",
       "      <td>0.0</td>\n",
       "      <td>0.0</td>\n",
       "      <td>0.0</td>\n",
       "      <td>0.0</td>\n",
       "      <td>0.0</td>\n",
       "      <td>0.0</td>\n",
       "      <td>0.0</td>\n",
       "      <td>0.0</td>\n",
       "      <td>0.0</td>\n",
       "      <td>Human Resources</td>\n",
       "    </tr>\n",
       "    <tr>\n",
       "      <th>1</th>\n",
       "      <td>cindy-cross-b00b0a14</td>\n",
       "      <td>hr_manager</td>\n",
       "      <td>0.0</td>\n",
       "      <td>0.0</td>\n",
       "      <td>0.0</td>\n",
       "      <td>0.0</td>\n",
       "      <td>0.0</td>\n",
       "      <td>0.0</td>\n",
       "      <td>0.0</td>\n",
       "      <td>0.0</td>\n",
       "      <td>...</td>\n",
       "      <td>0.0</td>\n",
       "      <td>0.0</td>\n",
       "      <td>0.0</td>\n",
       "      <td>0.0</td>\n",
       "      <td>0.0</td>\n",
       "      <td>0.0</td>\n",
       "      <td>0.0</td>\n",
       "      <td>0.0</td>\n",
       "      <td>0.0</td>\n",
       "      <td>Human Resources</td>\n",
       "    </tr>\n",
       "    <tr>\n",
       "      <th>2</th>\n",
       "      <td>valeen-w-9b7320178</td>\n",
       "      <td>hr_manager</td>\n",
       "      <td>0.0</td>\n",
       "      <td>0.0</td>\n",
       "      <td>0.0</td>\n",
       "      <td>0.0</td>\n",
       "      <td>0.0</td>\n",
       "      <td>0.0</td>\n",
       "      <td>0.0</td>\n",
       "      <td>0.0</td>\n",
       "      <td>...</td>\n",
       "      <td>0.0</td>\n",
       "      <td>0.0</td>\n",
       "      <td>0.0</td>\n",
       "      <td>0.0</td>\n",
       "      <td>0.0</td>\n",
       "      <td>0.0</td>\n",
       "      <td>0.0</td>\n",
       "      <td>0.0</td>\n",
       "      <td>0.0</td>\n",
       "      <td>Human Resources</td>\n",
       "    </tr>\n",
       "    <tr>\n",
       "      <th>3</th>\n",
       "      <td>tracy-cheng-a041542b</td>\n",
       "      <td>hr_manager</td>\n",
       "      <td>0.0</td>\n",
       "      <td>0.0</td>\n",
       "      <td>0.0</td>\n",
       "      <td>0.0</td>\n",
       "      <td>0.0</td>\n",
       "      <td>0.0</td>\n",
       "      <td>0.0</td>\n",
       "      <td>0.0</td>\n",
       "      <td>...</td>\n",
       "      <td>0.0</td>\n",
       "      <td>0.0</td>\n",
       "      <td>0.0</td>\n",
       "      <td>0.0</td>\n",
       "      <td>0.0</td>\n",
       "      <td>0.0</td>\n",
       "      <td>0.0</td>\n",
       "      <td>0.0</td>\n",
       "      <td>0.0</td>\n",
       "      <td>Human Resources</td>\n",
       "    </tr>\n",
       "    <tr>\n",
       "      <th>4</th>\n",
       "      <td>anne-savitch-2a179111a</td>\n",
       "      <td>hr_manager</td>\n",
       "      <td>0.0</td>\n",
       "      <td>0.0</td>\n",
       "      <td>0.0</td>\n",
       "      <td>0.0</td>\n",
       "      <td>0.0</td>\n",
       "      <td>0.0</td>\n",
       "      <td>0.0</td>\n",
       "      <td>0.0</td>\n",
       "      <td>...</td>\n",
       "      <td>0.0</td>\n",
       "      <td>0.0</td>\n",
       "      <td>0.0</td>\n",
       "      <td>0.0</td>\n",
       "      <td>0.0</td>\n",
       "      <td>0.0</td>\n",
       "      <td>0.0</td>\n",
       "      <td>0.0</td>\n",
       "      <td>0.0</td>\n",
       "      <td>Human Resources</td>\n",
       "    </tr>\n",
       "  </tbody>\n",
       "</table>\n",
       "<p>5 rows × 9066 columns</p>\n",
       "</div>"
      ],
      "text/plain": [
       "                     name        role  .net  .net core  .net framework  1 с  \\\n",
       "0     chloe-dion-74762aa7  hr_manager   0.0        0.0             0.0  0.0   \n",
       "1    cindy-cross-b00b0a14  hr_manager   0.0        0.0             0.0  0.0   \n",
       "2      valeen-w-9b7320178  hr_manager   0.0        0.0             0.0  0.0   \n",
       "3    tracy-cheng-a041542b  hr_manager   0.0        0.0             0.0  0.0   \n",
       "4  anne-savitch-2a179111a  hr_manager   0.0        0.0             0.0  0.0   \n",
       "\n",
       "   10 key  \\\n",
       "0     0.0   \n",
       "1     0.0   \n",
       "2     0.0   \n",
       "3     0.0   \n",
       "4     0.0   \n",
       "\n",
       "   10+ years installation and troubleshooting experience in all aspects of low vol  \\\n",
       "0                                                0.0                                 \n",
       "1                                                0.0                                 \n",
       "2                                                0.0                                 \n",
       "3                                                0.0                                 \n",
       "4                                                0.0                                 \n",
       "\n",
       "   1031 exchanges  1099 preparation  ...  비디오 게임  소셜미디어  스토리보딩  애니메이션   예술  \\\n",
       "0             0.0               0.0  ...     0.0    0.0    0.0    0.0  0.0   \n",
       "1             0.0               0.0  ...     0.0    0.0    0.0    0.0  0.0   \n",
       "2             0.0               0.0  ...     0.0    0.0    0.0    0.0  0.0   \n",
       "3             0.0               0.0  ...     0.0    0.0    0.0    0.0  0.0   \n",
       "4             0.0               0.0  ...     0.0    0.0    0.0    0.0  0.0   \n",
       "\n",
       "   캐릭터 애니메이션  콘셉트디자인  트레이닝  포토샵       broad_role  \n",
       "0        0.0     0.0   0.0  0.0  Human Resources  \n",
       "1        0.0     0.0   0.0  0.0  Human Resources  \n",
       "2        0.0     0.0   0.0  0.0  Human Resources  \n",
       "3        0.0     0.0   0.0  0.0  Human Resources  \n",
       "4        0.0     0.0   0.0  0.0  Human Resources  \n",
       "\n",
       "[5 rows x 9066 columns]"
      ]
     },
     "execution_count": 88,
     "metadata": {},
     "output_type": "execute_result"
    }
   ],
   "source": [
    "candidate_skills_df.head()"
   ]
  },
  {
   "cell_type": "code",
   "execution_count": 89,
   "metadata": {
    "ExecuteTime": {
     "end_time": "2020-06-28T01:37:01.209606Z",
     "start_time": "2020-06-28T01:37:01.203799Z"
    }
   },
   "outputs": [],
   "source": [
    "# label encoding for converting labels to 0,1,2,3,4....\n",
    "le = LabelEncoder()\n",
    "candidate_skills_df.broad_role = candidate_skills_df.broad_role.astype(str)\n",
    "candidate_skills_df['label'] = le.fit_transform(candidate_skills_df.broad_role.values)"
   ]
  },
  {
   "cell_type": "code",
   "execution_count": 90,
   "metadata": {
    "ExecuteTime": {
     "end_time": "2020-06-28T01:37:12.289014Z",
     "start_time": "2020-06-28T01:37:11.758849Z"
    }
   },
   "outputs": [],
   "source": [
    "candidate_skills_df = candidate_skills_df.reset_index().drop([\"index\"], axis = 1)"
   ]
  },
  {
   "cell_type": "code",
   "execution_count": 91,
   "metadata": {
    "ExecuteTime": {
     "end_time": "2020-06-28T01:37:13.129881Z",
     "start_time": "2020-06-28T01:37:12.965076Z"
    }
   },
   "outputs": [],
   "source": [
    "X, y = candidate_skills_df.drop(['name','role','label','broad_role'], axis = 1), candidate_skills_df['label']"
   ]
  },
  {
   "cell_type": "code",
   "execution_count": 92,
   "metadata": {
    "ExecuteTime": {
     "end_time": "2020-06-28T01:37:15.679831Z",
     "start_time": "2020-06-28T01:37:15.379187Z"
    }
   },
   "outputs": [
    {
     "data": {
      "text/plain": [
       "((2215, 9063), (2215,), (1092, 9063), (1092,))"
      ]
     },
     "execution_count": 92,
     "metadata": {},
     "output_type": "execute_result"
    }
   ],
   "source": [
    "X_train, X_test, y_train, y_test = train_test_split(X, y, random_state=42, test_size=0.33, stratify=y)\n",
    "X_train.shape, y_train.shape, X_test.shape, y_test.shape,"
   ]
  },
  {
   "cell_type": "code",
   "execution_count": 93,
   "metadata": {
    "ExecuteTime": {
     "end_time": "2020-06-28T01:37:25.727075Z",
     "start_time": "2020-06-28T01:37:24.593588Z"
    }
   },
   "outputs": [],
   "source": [
    "dtrain = xgb.DMatrix(data=X_train, label=y_train)\n",
    "dtest = xgb.DMatrix(data=X_test)"
   ]
  },
  {
   "cell_type": "code",
   "execution_count": 94,
   "metadata": {
    "ExecuteTime": {
     "end_time": "2020-06-28T01:38:06.432072Z",
     "start_time": "2020-06-28T01:38:06.429065Z"
    }
   },
   "outputs": [],
   "source": [
    "# parameters for XGBoost\n",
    "params = {\n",
    "    'max_depth': 6,\n",
    "    'objective': 'multi:softmax',  # error evaluation for multiclass training\n",
    "    'num_class': 13,\n",
    "    'n_gpus': 0\n",
    "}"
   ]
  },
  {
   "cell_type": "code",
   "execution_count": 95,
   "metadata": {
    "ExecuteTime": {
     "end_time": "2020-06-28T01:38:29.051162Z",
     "start_time": "2020-06-28T01:38:11.784415Z"
    }
   },
   "outputs": [],
   "source": [
    "bst = xgb.train(params, dtrain)"
   ]
  },
  {
   "cell_type": "code",
   "execution_count": 96,
   "metadata": {
    "ExecuteTime": {
     "end_time": "2020-06-28T01:38:29.079102Z",
     "start_time": "2020-06-28T01:38:29.053998Z"
    }
   },
   "outputs": [],
   "source": [
    "pickle.dump(bst, open(\"xgb_broad_model\", 'wb'))"
   ]
  },
  {
   "cell_type": "code",
   "execution_count": 97,
   "metadata": {
    "ExecuteTime": {
     "end_time": "2020-06-28T01:38:29.099375Z",
     "start_time": "2020-06-28T01:38:29.089921Z"
    }
   },
   "outputs": [],
   "source": [
    "xgb = pickle.load(open('xgb_broad_model', 'rb'))"
   ]
  },
  {
   "cell_type": "code",
   "execution_count": 98,
   "metadata": {
    "ExecuteTime": {
     "end_time": "2020-06-28T01:38:29.542678Z",
     "start_time": "2020-06-28T01:38:29.102656Z"
    }
   },
   "outputs": [],
   "source": [
    "pred = bst.predict(dtest)"
   ]
  },
  {
   "cell_type": "code",
   "execution_count": 99,
   "metadata": {
    "ExecuteTime": {
     "end_time": "2020-06-28T01:38:29.561738Z",
     "start_time": "2020-06-28T01:38:29.545343Z"
    }
   },
   "outputs": [],
   "source": [
    "pred = pred.astype(int)"
   ]
  },
  {
   "cell_type": "code",
   "execution_count": 100,
   "metadata": {
    "ExecuteTime": {
     "end_time": "2020-06-28T01:38:29.569340Z",
     "start_time": "2020-06-28T01:38:29.564523Z"
    }
   },
   "outputs": [
    {
     "data": {
      "text/plain": [
       "array([2, 4, 3, ..., 2, 2, 1])"
      ]
     },
     "execution_count": 100,
     "metadata": {},
     "output_type": "execute_result"
    }
   ],
   "source": [
    "pred"
   ]
  },
  {
   "cell_type": "code",
   "execution_count": 101,
   "metadata": {
    "ExecuteTime": {
     "end_time": "2020-06-28T01:38:29.576068Z",
     "start_time": "2020-06-28T01:38:29.572078Z"
    }
   },
   "outputs": [],
   "source": [
    "y_test = le.inverse_transform(y_test)\n",
    "pred = le.inverse_transform(pred)"
   ]
  },
  {
   "cell_type": "code",
   "execution_count": 102,
   "metadata": {
    "ExecuteTime": {
     "end_time": "2020-06-28T01:38:32.186818Z",
     "start_time": "2020-06-28T01:38:32.178085Z"
    }
   },
   "outputs": [
    {
     "name": "stdout",
     "output_type": "stream",
     "text": [
      "[[107   1  16   2  13]\n",
      " [  1 126  37   2   9]\n",
      " [  9   2 459   2  12]\n",
      " [  6   2  20  89  13]\n",
      " [  8   9  36   5 106]]\n",
      "\n",
      "\n"
     ]
    }
   ],
   "source": [
    "print(confusion_matrix(y_test,pred))\n",
    "print(\"\\n\")"
   ]
  },
  {
   "cell_type": "code",
   "execution_count": 103,
   "metadata": {
    "ExecuteTime": {
     "end_time": "2020-06-28T01:38:34.603920Z",
     "start_time": "2020-06-28T01:38:34.572789Z"
    }
   },
   "outputs": [
    {
     "name": "stdout",
     "output_type": "stream",
     "text": [
      "                          precision    recall  f1-score   support\n",
      "\n",
      "              Accounting       0.82      0.77      0.79       139\n",
      "Arts, Design and Writing       0.90      0.72      0.80       175\n",
      "             Engineering       0.81      0.95      0.87       484\n",
      "         Human Resources       0.89      0.68      0.77       130\n",
      "     Marketing and Sales       0.69      0.65      0.67       164\n",
      "\n",
      "                accuracy                           0.81      1092\n",
      "               macro avg       0.82      0.75      0.78      1092\n",
      "            weighted avg       0.82      0.81      0.81      1092\n",
      "\n"
     ]
    }
   ],
   "source": [
    "print(classification_report(y_test, pred))"
   ]
  },
  {
   "cell_type": "markdown",
   "metadata": {},
   "source": [
    "# Model Interpretation"
   ]
  },
  {
   "cell_type": "code",
   "execution_count": 105,
   "metadata": {
    "ExecuteTime": {
     "end_time": "2020-06-28T01:39:29.340692Z",
     "start_time": "2020-06-28T01:39:29.318397Z"
    }
   },
   "outputs": [
    {
     "data": {
      "text/html": [
       "\n",
       "    <style>\n",
       "    table.eli5-weights tr:hover {\n",
       "        filter: brightness(85%);\n",
       "    }\n",
       "</style>\n",
       "\n",
       "\n",
       "\n",
       "    \n",
       "\n",
       "    \n",
       "\n",
       "    \n",
       "\n",
       "    \n",
       "\n",
       "    \n",
       "\n",
       "    \n",
       "\n",
       "\n",
       "    \n",
       "\n",
       "    \n",
       "\n",
       "    \n",
       "\n",
       "    \n",
       "\n",
       "    \n",
       "\n",
       "    \n",
       "\n",
       "\n",
       "    \n",
       "\n",
       "    \n",
       "\n",
       "    \n",
       "\n",
       "    \n",
       "\n",
       "    \n",
       "        <table class=\"eli5-weights eli5-feature-importances\" style=\"border-collapse: collapse; border: none; margin-top: 0em; table-layout: auto;\">\n",
       "    <thead>\n",
       "    <tr style=\"border: none;\">\n",
       "        <th style=\"padding: 0 1em 0 0.5em; text-align: right; border: none;\">Weight</th>\n",
       "        <th style=\"padding: 0 0.5em 0 0.5em; text-align: left; border: none;\">Feature</th>\n",
       "    </tr>\n",
       "    </thead>\n",
       "    <tbody>\n",
       "    \n",
       "        <tr style=\"background-color: hsl(120, 100.00%, 80.00%); border: none;\">\n",
       "            <td style=\"padding: 0 1em 0 0.5em; text-align: right; border: none;\">\n",
       "                0.1360\n",
       "                \n",
       "            </td>\n",
       "            <td style=\"padding: 0 0.5em 0 0.5em; text-align: left; border: none;\">\n",
       "                networking\n",
       "            </td>\n",
       "        </tr>\n",
       "    \n",
       "        <tr style=\"background-color: hsl(120, 100.00%, 87.26%); border: none;\">\n",
       "            <td style=\"padding: 0 1em 0 0.5em; text-align: right; border: none;\">\n",
       "                0.0714\n",
       "                \n",
       "            </td>\n",
       "            <td style=\"padding: 0 0.5em 0 0.5em; text-align: left; border: none;\">\n",
       "                illustration\n",
       "            </td>\n",
       "        </tr>\n",
       "    \n",
       "        <tr style=\"background-color: hsl(120, 100.00%, 88.15%); border: none;\">\n",
       "            <td style=\"padding: 0 1em 0 0.5em; text-align: right; border: none;\">\n",
       "                0.0643\n",
       "                \n",
       "            </td>\n",
       "            <td style=\"padding: 0 0.5em 0 0.5em; text-align: left; border: none;\">\n",
       "                construction\n",
       "            </td>\n",
       "        </tr>\n",
       "    \n",
       "        <tr style=\"background-color: hsl(120, 100.00%, 89.61%); border: none;\">\n",
       "            <td style=\"padding: 0 1em 0 0.5em; text-align: right; border: none;\">\n",
       "                0.0534\n",
       "                \n",
       "            </td>\n",
       "            <td style=\"padding: 0 0.5em 0 0.5em; text-align: left; border: none;\">\n",
       "                recruiting\n",
       "            </td>\n",
       "        </tr>\n",
       "    \n",
       "        <tr style=\"background-color: hsl(120, 100.00%, 90.77%); border: none;\">\n",
       "            <td style=\"padding: 0 1em 0 0.5em; text-align: right; border: none;\">\n",
       "                0.0450\n",
       "                \n",
       "            </td>\n",
       "            <td style=\"padding: 0 0.5em 0 0.5em; text-align: left; border: none;\">\n",
       "                accounting\n",
       "            </td>\n",
       "        </tr>\n",
       "    \n",
       "        <tr style=\"background-color: hsl(120, 100.00%, 91.15%); border: none;\">\n",
       "            <td style=\"padding: 0 1em 0 0.5em; text-align: right; border: none;\">\n",
       "                0.0424\n",
       "                \n",
       "            </td>\n",
       "            <td style=\"padding: 0 0.5em 0 0.5em; text-align: left; border: none;\">\n",
       "                engineering\n",
       "            </td>\n",
       "        </tr>\n",
       "    \n",
       "        <tr style=\"background-color: hsl(120, 100.00%, 91.80%); border: none;\">\n",
       "            <td style=\"padding: 0 1em 0 0.5em; text-align: right; border: none;\">\n",
       "                0.0380\n",
       "                \n",
       "            </td>\n",
       "            <td style=\"padding: 0 0.5em 0 0.5em; text-align: left; border: none;\">\n",
       "                matlab\n",
       "            </td>\n",
       "        </tr>\n",
       "    \n",
       "        <tr style=\"background-color: hsl(120, 100.00%, 93.75%); border: none;\">\n",
       "            <td style=\"padding: 0 1em 0 0.5em; text-align: right; border: none;\">\n",
       "                0.0258\n",
       "                \n",
       "            </td>\n",
       "            <td style=\"padding: 0 0.5em 0 0.5em; text-align: left; border: none;\">\n",
       "                photoshop\n",
       "            </td>\n",
       "        </tr>\n",
       "    \n",
       "        <tr style=\"background-color: hsl(120, 100.00%, 94.46%); border: none;\">\n",
       "            <td style=\"padding: 0 1em 0 0.5em; text-align: right; border: none;\">\n",
       "                0.0217\n",
       "                \n",
       "            </td>\n",
       "            <td style=\"padding: 0 0.5em 0 0.5em; text-align: left; border: none;\">\n",
       "                python\n",
       "            </td>\n",
       "        </tr>\n",
       "    \n",
       "        <tr style=\"background-color: hsl(120, 100.00%, 94.48%); border: none;\">\n",
       "            <td style=\"padding: 0 1em 0 0.5em; text-align: right; border: none;\">\n",
       "                0.0216\n",
       "                \n",
       "            </td>\n",
       "            <td style=\"padding: 0 0.5em 0 0.5em; text-align: left; border: none;\">\n",
       "                marketing\n",
       "            </td>\n",
       "        </tr>\n",
       "    \n",
       "        <tr style=\"background-color: hsl(120, 100.00%, 94.81%); border: none;\">\n",
       "            <td style=\"padding: 0 1em 0 0.5em; text-align: right; border: none;\">\n",
       "                0.0198\n",
       "                \n",
       "            </td>\n",
       "            <td style=\"padding: 0 0.5em 0 0.5em; text-align: left; border: none;\">\n",
       "                c++\n",
       "            </td>\n",
       "        </tr>\n",
       "    \n",
       "        <tr style=\"background-color: hsl(120, 100.00%, 95.13%); border: none;\">\n",
       "            <td style=\"padding: 0 1em 0 0.5em; text-align: right; border: none;\">\n",
       "                0.0181\n",
       "                \n",
       "            </td>\n",
       "            <td style=\"padding: 0 0.5em 0 0.5em; text-align: left; border: none;\">\n",
       "                technical writing\n",
       "            </td>\n",
       "        </tr>\n",
       "    \n",
       "        <tr style=\"background-color: hsl(120, 100.00%, 95.63%); border: none;\">\n",
       "            <td style=\"padding: 0 1em 0 0.5em; text-align: right; border: none;\">\n",
       "                0.0155\n",
       "                \n",
       "            </td>\n",
       "            <td style=\"padding: 0 0.5em 0 0.5em; text-align: left; border: none;\">\n",
       "                sales\n",
       "            </td>\n",
       "        </tr>\n",
       "    \n",
       "        <tr style=\"background-color: hsl(120, 100.00%, 95.66%); border: none;\">\n",
       "            <td style=\"padding: 0 1em 0 0.5em; text-align: right; border: none;\">\n",
       "                0.0153\n",
       "                \n",
       "            </td>\n",
       "            <td style=\"padding: 0 0.5em 0 0.5em; text-align: left; border: none;\">\n",
       "                adobe photoshop\n",
       "            </td>\n",
       "        </tr>\n",
       "    \n",
       "        <tr style=\"background-color: hsl(120, 100.00%, 95.68%); border: none;\">\n",
       "            <td style=\"padding: 0 1em 0 0.5em; text-align: right; border: none;\">\n",
       "                0.0152\n",
       "                \n",
       "            </td>\n",
       "            <td style=\"padding: 0 0.5em 0 0.5em; text-align: left; border: none;\">\n",
       "                outlook\n",
       "            </td>\n",
       "        </tr>\n",
       "    \n",
       "        <tr style=\"background-color: hsl(120, 100.00%, 95.83%); border: none;\">\n",
       "            <td style=\"padding: 0 1em 0 0.5em; text-align: right; border: none;\">\n",
       "                0.0145\n",
       "                \n",
       "            </td>\n",
       "            <td style=\"padding: 0 0.5em 0 0.5em; text-align: left; border: none;\">\n",
       "                concept design\n",
       "            </td>\n",
       "        </tr>\n",
       "    \n",
       "        <tr style=\"background-color: hsl(120, 100.00%, 96.48%); border: none;\">\n",
       "            <td style=\"padding: 0 1em 0 0.5em; text-align: right; border: none;\">\n",
       "                0.0114\n",
       "                \n",
       "            </td>\n",
       "            <td style=\"padding: 0 0.5em 0 0.5em; text-align: left; border: none;\">\n",
       "                writing\n",
       "            </td>\n",
       "        </tr>\n",
       "    \n",
       "        <tr style=\"background-color: hsl(120, 100.00%, 96.48%); border: none;\">\n",
       "            <td style=\"padding: 0 1em 0 0.5em; text-align: right; border: none;\">\n",
       "                0.0114\n",
       "                \n",
       "            </td>\n",
       "            <td style=\"padding: 0 0.5em 0 0.5em; text-align: left; border: none;\">\n",
       "                human resources\n",
       "            </td>\n",
       "        </tr>\n",
       "    \n",
       "        <tr style=\"background-color: hsl(120, 100.00%, 96.64%); border: none;\">\n",
       "            <td style=\"padding: 0 1em 0 0.5em; text-align: right; border: none;\">\n",
       "                0.0106\n",
       "                \n",
       "            </td>\n",
       "            <td style=\"padding: 0 0.5em 0 0.5em; text-align: left; border: none;\">\n",
       "                digital marketing\n",
       "            </td>\n",
       "        </tr>\n",
       "    \n",
       "        <tr style=\"background-color: hsl(120, 100.00%, 96.86%); border: none;\">\n",
       "            <td style=\"padding: 0 1em 0 0.5em; text-align: right; border: none;\">\n",
       "                0.0096\n",
       "                \n",
       "            </td>\n",
       "            <td style=\"padding: 0 0.5em 0 0.5em; text-align: left; border: none;\">\n",
       "                financial analysis\n",
       "            </td>\n",
       "        </tr>\n",
       "    \n",
       "    \n",
       "        \n",
       "            <tr style=\"background-color: hsl(120, 100.00%, 96.86%); border: none;\">\n",
       "                <td colspan=\"2\" style=\"padding: 0 0.5em 0 0.5em; text-align: center; border: none; white-space: nowrap;\">\n",
       "                    <i>&hellip; 9043 more &hellip;</i>\n",
       "                </td>\n",
       "            </tr>\n",
       "        \n",
       "    \n",
       "    </tbody>\n",
       "</table>\n",
       "    \n",
       "\n",
       "    \n",
       "\n",
       "\n",
       "    \n",
       "\n",
       "    \n",
       "\n",
       "    \n",
       "\n",
       "    \n",
       "\n",
       "    \n",
       "\n",
       "    \n",
       "\n",
       "\n",
       "\n"
      ],
      "text/plain": [
       "<IPython.core.display.HTML object>"
      ]
     },
     "execution_count": 105,
     "metadata": {},
     "output_type": "execute_result"
    }
   ],
   "source": [
    "show_weights(bst,show_feature_values=True,top=20)"
   ]
  }
 ],
 "metadata": {
  "kernelspec": {
   "display_name": "Python 3",
   "language": "python",
   "name": "python3"
  },
  "language_info": {
   "codemirror_mode": {
    "name": "ipython",
    "version": 3
   },
   "file_extension": ".py",
   "mimetype": "text/x-python",
   "name": "python",
   "nbconvert_exporter": "python",
   "pygments_lexer": "ipython3",
   "version": "3.7.3"
  },
  "toc": {
   "base_numbering": 1,
   "nav_menu": {},
   "number_sections": true,
   "sideBar": true,
   "skip_h1_title": false,
   "title_cell": "Table of Contents",
   "title_sidebar": "Contents",
   "toc_cell": false,
   "toc_position": {},
   "toc_section_display": true,
   "toc_window_display": false
  }
 },
 "nbformat": 4,
 "nbformat_minor": 2
}
